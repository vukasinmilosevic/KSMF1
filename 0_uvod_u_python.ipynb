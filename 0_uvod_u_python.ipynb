{
  "cells": [
    {
      "cell_type": "markdown",
      "metadata": {
        "id": "LQr2OIo_eLAY"
      },
      "source": [
        "# Kompjuterske i statističke metode u fizici 1\n",
        "## Uvod u python\n",
        "\n",
        "Moderna naučna praksa ne postoji bez nekog vida programiranja. Između dostupnih (kao i besplatnih) okruženja za AI, grafički prikaz rezultata, analizu podataka - Jupyter (uparen sa **python** programskim jezikom) okruženje je našire rasprostranjen alat.\n",
        "\n",
        "Ova \"sveska\" (eng. notebook) predstavlja uvod u okruženje i osnove python-a u partnerstvu sa Google Colab platformom."
      ]
    },
    {
      "cell_type": "markdown",
      "metadata": {
        "id": "ly4vFUFTeLAY"
      },
      "source": [
        "# Jupyter (ranije poznat pod imenom IPython)\n",
        "\n",
        "Jupyter format u vidu notebook-ova (sveski), je veoma fleksibilan alat za kreiranje čitkih analiza, jednostavnog koda i objedinjenog prikazivanja slika, komentara, formula i grafika.\n",
        "\n",
        "Jupyter podržava veliki broj programskih jezika i lako se host-uje na skoro svim serverskim rešenjima - jedini zahtev je da korisnik poseduje `ssh` ili `http` pristup serveru. Najbitnije od svega, kompletno je besplatan."
      ]
    },
    {
      "cell_type": "markdown",
      "metadata": {
        "id": "-n5FJ7ZweLAZ"
      },
      "source": [
        "## Ćelije (cells)\n",
        "\n",
        "Jupyter sveske se sastoje od sekvenci \"ćelija\" koje mogu biti:\n",
        "* Tekstualne ćelije (kao što je ova), koja može biti napisana koristeći [Markdown sintaksu](http://daringfireball.net/projects/markdown/syntax)\n",
        "\n",
        "* Ćelije sa kodom koji je spreman za izvršavanje (kao što je ćelija ispod), npr. python kod, `%magics`, `!system calls`, itd.\n",
        "\n",
        "Ispod možemo pronaći code ćeliju koja sumira dve konstantne vrednosti:"
      ]
    },
    {
      "cell_type": "code",
      "execution_count": 142,
      "metadata": {
        "id": "qJXkVQ8deLAZ",
        "outputId": "5c0c2213-701a-4985-f157-955970ef7994",
        "colab": {
          "base_uri": "https://localhost:8080/"
        }
      },
      "outputs": [
        {
          "output_type": "execute_result",
          "data": {
            "text/plain": [
              "3"
            ]
          },
          "metadata": {},
          "execution_count": 142
        }
      ],
      "source": [
        "1 + 2"
      ]
    },
    {
      "cell_type": "markdown",
      "metadata": {
        "id": "EIrBjvQ2eLAZ"
      },
      "source": [
        "### Skraćenice\n",
        "\n",
        "* `Shift-Enter` - koristiti sa pokretanje programa ili formatiranje teksta unutar ćelije;\n",
        "* Pritiskanje tastera `Enter` dodaje novu liniju teksta u ćeliji.\n",
        "\n",
        "Možete ponovo pokrenuti istu ćeliju koliko god puta poželite (ili dok ne preopteretite sistem). Potrebno je da postavite kursor na ćeliju i pritisnete `Shift-Enter` zarad pokretanja iste.\n",
        "\n",
        "* Kreiranje nove ćelije iznad trenutne: `Esc+a`\n",
        "* Kreiranje nove ćelije ispod trenutne:`Esc+b`\n",
        "* Editovanje ćelije se vrši tako što kliknete na nju i pritisnete `Enter`\n",
        "\n",
        "Kreirane ćelije su ćelije za kod. Za kreiranje tekstualnih ćelija izaberite meni opcije pod `Insert-Text cell`. Primer markdown sintakse sa latex formulama je dat ispod.\n",
        "\n",
        "$$\n",
        "    P(A|B)=\\frac{P(B|A)P(A)}{P(B)}\n",
        "$$\n",
        "\n",
        "Čuvanje projekta-sveske se obavlja pristiskom `Cmd+s` ili `Ctrl+s`."
      ]
    },
    {
      "cell_type": "markdown",
      "metadata": {
        "id": "eE5MeSHFeLAZ"
      },
      "source": [
        "## Downloading notebook\n",
        "Pod meni opcijama odabrati \"File\"->\"Download\"->\"Download .ipynb\"."
      ]
    },
    {
      "cell_type": "markdown",
      "metadata": {
        "id": "NXqWndEXeLAZ"
      },
      "source": [
        "## python: assignment\n",
        "Operator dodeljivanja u python-u je =. U python-u ne morate specificirati tip varijable kada je kreirate. Dodeljivanje vrednosti novoj varijabli je ujedno i kreira."
      ]
    },
    {
      "cell_type": "code",
      "execution_count": 143,
      "metadata": {
        "id": "5ueyB8cfeLAZ"
      },
      "outputs": [],
      "source": [
        "x = 10\n",
        "y = 1e-5"
      ]
    },
    {
      "cell_type": "code",
      "execution_count": 144,
      "metadata": {
        "id": "kr9UOwMoeLAZ",
        "outputId": "155144d0-fe9d-4f43-9101-50897af8da53",
        "colab": {
          "base_uri": "https://localhost:8080/"
        }
      },
      "outputs": [
        {
          "output_type": "execute_result",
          "data": {
            "text/plain": [
              "10"
            ]
          },
          "metadata": {},
          "execution_count": 144
        }
      ],
      "source": [
        "x"
      ]
    },
    {
      "cell_type": "markdown",
      "metadata": {
        "id": "yuL5qQMkeLAZ"
      },
      "source": [
        "Iako nije eksplicitno specificirano, varijabla ima type (tip - int, float, string,...) sa kojim je asocirana. Type je izveden iz vrednosti sa kojom je varijabla bila kreirana. Možete koristiti `type()` funkciju da proverite šta je type za datu varijablu:"
      ]
    },
    {
      "cell_type": "code",
      "execution_count": 145,
      "metadata": {
        "id": "f5ObUxCneLAZ",
        "outputId": "ac0e7e34-057b-411d-c7f6-d57d2b879f70",
        "colab": {
          "base_uri": "https://localhost:8080/"
        }
      },
      "outputs": [
        {
          "output_type": "execute_result",
          "data": {
            "text/plain": [
              "int"
            ]
          },
          "metadata": {},
          "execution_count": 145
        }
      ],
      "source": [
        "type(x)"
      ]
    },
    {
      "cell_type": "code",
      "execution_count": 146,
      "metadata": {
        "id": "JCMQTYFkeLAa",
        "outputId": "dc7f48cd-eae9-4779-fc58-cce8f96e9fa5",
        "colab": {
          "base_uri": "https://localhost:8080/"
        }
      },
      "outputs": [
        {
          "output_type": "execute_result",
          "data": {
            "text/plain": [
              "float"
            ]
          },
          "metadata": {},
          "execution_count": 146
        }
      ],
      "source": [
        "type(y)"
      ]
    },
    {
      "cell_type": "markdown",
      "metadata": {
        "id": "-E5_G-dneLAa"
      },
      "source": [
        "## Printing"
      ]
    },
    {
      "cell_type": "code",
      "execution_count": 147,
      "metadata": {
        "id": "750pOIQveLAa",
        "outputId": "32b6f055-4d36-4e09-e64c-12514ce1ba0a",
        "colab": {
          "base_uri": "https://localhost:8080/"
        }
      },
      "outputs": [
        {
          "output_type": "stream",
          "name": "stdout",
          "text": [
            "10\n",
            "10 1e-05 <class 'int'> <class 'float'>\n"
          ]
        }
      ],
      "source": [
        "# Štampanje varijable definisane u prethodnom primeru\n",
        "print (x)\n",
        "# Štampanje više varijabli tako što ih razdvojimo zarezom\n",
        "print (x, y, type(x), type(y))"
      ]
    },
    {
      "cell_type": "markdown",
      "metadata": {
        "id": "gmi6lnmteLAa"
      },
      "source": [
        "\n",
        "Ukoliko varijabli dodelimo novu vrednost, njen type se može promeniti"
      ]
    },
    {
      "cell_type": "code",
      "execution_count": 148,
      "metadata": {
        "id": "Dg0t36vSeLAa",
        "outputId": "42ff12e2-806b-4b97-acd8-ea7ad70c25e7",
        "colab": {
          "base_uri": "https://localhost:8080/"
        }
      },
      "outputs": [
        {
          "output_type": "stream",
          "name": "stdout",
          "text": [
            "<class 'int'>\n",
            "<class 'float'>\n"
          ]
        }
      ],
      "source": [
        "print (type(x))\n",
        "x = 1.2\n",
        "print (type(x))"
      ]
    },
    {
      "cell_type": "markdown",
      "metadata": {
        "id": "630wfdjSeLAa"
      },
      "source": [
        "## Komentari\n",
        "\n",
        "Postoje dva načina da unesemo komentare u naš kod."
      ]
    },
    {
      "cell_type": "code",
      "execution_count": 149,
      "metadata": {
        "id": "dJ356TpqeLAa"
      },
      "outputs": [],
      "source": [
        "# Jednolinijski komentari, npr. definisimo x = 1\n",
        "x = 1"
      ]
    },
    {
      "cell_type": "code",
      "execution_count": 150,
      "metadata": {
        "id": "Wqrm3RZPeLAa"
      },
      "outputs": [],
      "source": [
        "'''\n",
        "Ovo je primer mulitlinijskog komentara.\n",
        "\n",
        "Ispod definišemo konstantnu varijablu x sa vrednošću 1\n",
        "'''\n",
        "x = 1"
      ]
    },
    {
      "cell_type": "markdown",
      "metadata": {
        "id": "AiU9n9R5eLAa"
      },
      "source": [
        "## python: Osnovni tipovi (types)\n",
        "\n",
        "Postoji mali broj različitih core types."
      ]
    },
    {
      "cell_type": "code",
      "execution_count": 151,
      "metadata": {
        "id": "M5N6GjwUeLAa",
        "outputId": "ea196768-fc5b-488d-c883-be68290345a4",
        "colab": {
          "base_uri": "https://localhost:8080/"
        }
      },
      "outputs": [
        {
          "output_type": "stream",
          "name": "stdout",
          "text": [
            "1 <class 'int'>\n",
            "1.4 <class 'float'>\n",
            "True False\n"
          ]
        }
      ],
      "source": [
        "# integers\n",
        "x = 1\n",
        "print (x, type(x))\n",
        "\n",
        "# float\n",
        "y = 1.4\n",
        "print (y, type(y))\n",
        "\n",
        "# boolean\n",
        "t = True\n",
        "f = False\n",
        "print (t, f)"
      ]
    },
    {
      "cell_type": "code",
      "execution_count": 152,
      "metadata": {
        "id": "kjDPBKJceLAa",
        "outputId": "8c74f048-391c-4204-d877-094b29530653",
        "colab": {
          "base_uri": "https://localhost:8080/"
        }
      },
      "outputs": [
        {
          "output_type": "stream",
          "name": "stdout",
          "text": [
            "False True\n"
          ]
        }
      ],
      "source": [
        "# Proverava da li je varijabla x float\n",
        "print (type(x) is float, type(x) is int)"
      ]
    },
    {
      "cell_type": "markdown",
      "metadata": {
        "id": "f3FbPpVmeLAa"
      },
      "source": [
        "Takođe možemo koristiti `isinstance` metod za testiranje tipova varijabli:"
      ]
    },
    {
      "cell_type": "code",
      "execution_count": 153,
      "metadata": {
        "id": "jq_Ck4_deLAa",
        "outputId": "89ff8a30-7df1-4f5c-fe9a-81f7e86427e6",
        "colab": {
          "base_uri": "https://localhost:8080/"
        }
      },
      "outputs": [
        {
          "output_type": "execute_result",
          "data": {
            "text/plain": [
              "False"
            ]
          },
          "metadata": {},
          "execution_count": 153
        }
      ],
      "source": [
        "isinstance(x, float)"
      ]
    },
    {
      "cell_type": "markdown",
      "metadata": {
        "id": "tVyATCWmeLAa"
      },
      "source": [
        "### None\n",
        "\n",
        "Vrednost `None` je specijalan objekat u python-u koji se koristi da pokaže da je varijabla definisana, ali je eksplicitno podešena da ne sadrži ništa."
      ]
    },
    {
      "cell_type": "code",
      "execution_count": 154,
      "metadata": {
        "id": "N6LBwtcweLAa",
        "outputId": "b5146ce1-843e-4228-e87b-11567e61260e",
        "colab": {
          "base_uri": "https://localhost:8080/"
        }
      },
      "outputs": [
        {
          "output_type": "stream",
          "name": "stdout",
          "text": [
            "None\n",
            "True\n"
          ]
        }
      ],
      "source": [
        "none_x = None\n",
        "print (none_x)\n",
        "print (none_x is None)"
      ]
    },
    {
      "cell_type": "markdown",
      "metadata": {
        "id": "36KOs2yNeLAb"
      },
      "source": [
        "### Type casting"
      ]
    },
    {
      "cell_type": "code",
      "execution_count": 155,
      "metadata": {
        "id": "jLp3WmPqeLAb",
        "outputId": "16aeec26-72aa-4091-cd2a-152de5f4dd83",
        "colab": {
          "base_uri": "https://localhost:8080/"
        }
      },
      "outputs": [
        {
          "output_type": "stream",
          "name": "stdout",
          "text": [
            "1.4 <class 'float'>\n",
            "1 <class 'int'>\n"
          ]
        }
      ],
      "source": [
        "print (y, type(y))\n",
        "y_new = int(y)\n",
        "print (y_new, type(y_new))"
      ]
    },
    {
      "cell_type": "markdown",
      "metadata": {
        "id": "Y-5ZZUrJeLAb"
      },
      "source": [
        "## python: Operatori i upoređivanja\n",
        "\n",
        "Većina operatora upoređivanja u python-u fukncionišu analogno matematičkim koje znamo od ranije:\n",
        "* Aritmetički operatori `+, -, *, /, //` (integer division), '**' stepen"
      ]
    },
    {
      "cell_type": "code",
      "execution_count": 158,
      "metadata": {
        "id": "zuN4dr4OeLAb",
        "outputId": "04d750ca-932e-48be-80ed-1bbfa7be3f7f",
        "colab": {
          "base_uri": "https://localhost:8080/"
        }
      },
      "outputs": [
        {
          "output_type": "execute_result",
          "data": {
            "text/plain": [
              "(3, -1.0999999999999999, 2.3, 5.5)"
            ]
          },
          "metadata": {},
          "execution_count": 158
        }
      ],
      "source": [
        "1 + 2, 1.2 - 2.3, 1 * 2.3, 11 / 2"
      ]
    },
    {
      "cell_type": "code",
      "execution_count": 159,
      "metadata": {
        "id": "xTG4AGKHeLAb",
        "outputId": "2f1d59ab-8425-4aeb-9c4d-fd52bda804e8",
        "colab": {
          "base_uri": "https://localhost:8080/"
        }
      },
      "outputs": [
        {
          "output_type": "execute_result",
          "data": {
            "text/plain": [
              "(5.0, 5.5)"
            ]
          },
          "metadata": {},
          "execution_count": 159
        }
      ],
      "source": [
        "# Integer division of float numbers\n",
        "11.0 // 2.0, 11. / 2."
      ]
    },
    {
      "cell_type": "code",
      "execution_count": 160,
      "metadata": {
        "id": "xdHKXkgpeLAb",
        "outputId": "b653b0f6-565f-48a0-f536-ec134f0dd309",
        "colab": {
          "base_uri": "https://localhost:8080/"
        }
      },
      "outputs": [
        {
          "output_type": "execute_result",
          "data": {
            "text/plain": [
              "4"
            ]
          },
          "metadata": {},
          "execution_count": 160
        }
      ],
      "source": [
        "# Napomena! Operator za stepen u python-u nije ^, već **\n",
        "2 ** 2"
      ]
    },
    {
      "cell_type": "code",
      "execution_count": 161,
      "metadata": {
        "id": "j-d-RYV0eLAb",
        "outputId": "d2d28a0c-f9e2-4d73-c113-c3dddb289155",
        "colab": {
          "base_uri": "https://localhost:8080/"
        }
      },
      "outputs": [
        {
          "output_type": "execute_result",
          "data": {
            "text/plain": [
              "(False, True, True)"
            ]
          },
          "metadata": {},
          "execution_count": 161
        }
      ],
      "source": [
        "True and False, not False, True or False"
      ]
    },
    {
      "cell_type": "markdown",
      "metadata": {
        "id": "UXQsdf4ueLAb"
      },
      "source": [
        "* Operatori poređenja >, <, >= (veće ili jednako), <= (manje ili jednako), == jednakost ili identično."
      ]
    },
    {
      "cell_type": "code",
      "execution_count": 162,
      "metadata": {
        "id": "dANo-d1ZeLAb",
        "outputId": "30e110ca-ebaf-48c0-9e4f-cd48ce55cbd3",
        "colab": {
          "base_uri": "https://localhost:8080/"
        }
      },
      "outputs": [
        {
          "output_type": "execute_result",
          "data": {
            "text/plain": [
              "(True, False, True, True, False, False)"
            ]
          },
          "metadata": {},
          "execution_count": 162
        }
      ],
      "source": [
        "2 > 1, 2 < 1, 2 >= 2, 2 <= 2, 1 == 0, True == False"
      ]
    },
    {
      "cell_type": "markdown",
      "metadata": {
        "id": "m0xuYjbjeLAb"
      },
      "source": [
        "## python: compounds types (strings, lists, dictionaries)"
      ]
    },
    {
      "cell_type": "markdown",
      "metadata": {
        "collapsed": true,
        "id": "MnZN0o-2eLAb"
      },
      "source": [
        "### String\n",
        "Strings se koriste za čuvanje tekstualnih poruka.\n"
      ]
    },
    {
      "cell_type": "code",
      "execution_count": 163,
      "metadata": {
        "id": "lNrqZVmGeLAb",
        "outputId": "833ad8b2-8034-4668-8f68-980ba7c1c1f7",
        "colab": {
          "base_uri": "https://localhost:8080/"
        }
      },
      "outputs": [
        {
          "output_type": "execute_result",
          "data": {
            "text/plain": [
              "str"
            ]
          },
          "metadata": {},
          "execution_count": 163
        }
      ],
      "source": [
        "s = \"Hello world\"\n",
        "type(s)"
      ]
    },
    {
      "cell_type": "code",
      "execution_count": 164,
      "metadata": {
        "id": "aGmKVviGeLAb",
        "outputId": "76cd5dea-ccd2-46c9-b652-97b75e79eff0",
        "colab": {
          "base_uri": "https://localhost:8080/"
        }
      },
      "outputs": [
        {
          "output_type": "stream",
          "name": "stdout",
          "text": [
            "11\n",
            "Hello test\n"
          ]
        }
      ],
      "source": [
        "# Dužina stringa\n",
        "print (len(s))\n",
        "# Zameniti deo poruke sa drugim tekstom\n",
        "s2 = s.replace(\"world\", \"test\")\n",
        "print (s2)"
      ]
    },
    {
      "cell_type": "markdown",
      "metadata": {
        "id": "21_dA2qGeLAg"
      },
      "source": [
        "#### Slicing"
      ]
    },
    {
      "cell_type": "markdown",
      "metadata": {
        "id": "BjQEJKldeLAg"
      },
      "source": [
        "Možemo indeksirati string koristeći `[]`:"
      ]
    },
    {
      "cell_type": "code",
      "execution_count": 165,
      "metadata": {
        "id": "rwb_yZaneLAg",
        "outputId": "27cee927-4b96-40c7-f1f9-bbd58452b415",
        "colab": {
          "base_uri": "https://localhost:8080/"
        }
      },
      "outputs": [
        {
          "output_type": "stream",
          "name": "stdout",
          "text": [
            "H e Hello Hello\n"
          ]
        }
      ],
      "source": [
        "print (s[0], s[1], s[0:5], s[:5],)"
      ]
    },
    {
      "cell_type": "markdown",
      "metadata": {
        "id": "fTB659-HeLAg"
      },
      "source": [
        "Takodje, možemo definisati korake u indeksiranju korišćenjem sintakse [start:end:step]"
      ]
    },
    {
      "cell_type": "code",
      "execution_count": 166,
      "metadata": {
        "id": "turylEXKeLAg",
        "outputId": "5ebbe539-eb65-422a-ce03-47ed6ead091e",
        "colab": {
          "base_uri": "https://localhost:8080/"
        }
      },
      "outputs": [
        {
          "output_type": "stream",
          "name": "stdout",
          "text": [
            "Hlowrd\n",
            "Hello world\n",
            "dlrow olleH\n"
          ]
        }
      ],
      "source": [
        "print (s[::2]) # Prikaz svakog drugog slova u string-u\n",
        "print (s[::1])\n",
        "print (s[::-1]) # Invertovanje karaktera u string-a"
      ]
    },
    {
      "cell_type": "markdown",
      "metadata": {
        "id": "e7qH6BKyeLAg"
      },
      "source": [
        "## Zadatak za vežbu 1\n",
        "\n",
        "Štampati deo teksta koji bi bio jednak **`world`**"
      ]
    },
    {
      "cell_type": "code",
      "execution_count": 167,
      "metadata": {
        "id": "mvPzzPuceLAg"
      },
      "outputs": [],
      "source": [
        "# Vaš kod treba da prikaže string \"world\"\n",
        "# s[???]"
      ]
    },
    {
      "cell_type": "markdown",
      "metadata": {
        "id": "wHKSlllmeLAg"
      },
      "source": [
        "## Formatiranje"
      ]
    },
    {
      "cell_type": "code",
      "execution_count": 168,
      "metadata": {
        "id": "RoXBqbYneLAg",
        "outputId": "ae18fa29-0fd7-479f-c130-897a43555639",
        "colab": {
          "base_uri": "https://localhost:8080/"
        }
      },
      "outputs": [
        {
          "output_type": "stream",
          "name": "stdout",
          "text": [
            "str1 str2 str3\n",
            "str1 1.0 False (-0-1j)\n",
            "str1str2str3\n"
          ]
        }
      ],
      "source": [
        "print (\"str1\", \"str2\", \"str3\")  # Štampa sve tri reči razdvajajući ih razmakom\n",
        "print (\"str1\", 1.0, False, -1j) # Štampa sve izraze konvertujući varijable u string\n",
        "print (\"str1\" + \"str2\" + \"str3\")# Reči su dodate jedna na drugu bez razmaka i nakon toga se štampaju"
      ]
    },
    {
      "cell_type": "code",
      "execution_count": 169,
      "metadata": {
        "id": "sBdS61Z4eLAg",
        "outputId": "a219859d-e0dd-4fe5-f56a-7b7bdc10c97d",
        "colab": {
          "base_uri": "https://localhost:8080/"
        }
      },
      "outputs": [
        {
          "output_type": "stream",
          "name": "stdout",
          "text": [
            "value1 = 3.14. value2 = 1\n"
          ]
        }
      ],
      "source": [
        "# Ovakvo formatiranje kreira string\n",
        "s2 = \"value1 = %.2f. value2 = %d\" % (3.1415, 1.5)\n",
        "print (s2)"
      ]
    },
    {
      "cell_type": "code",
      "execution_count": 170,
      "metadata": {
        "id": "hm5FLT9TeLAg",
        "outputId": "807af574-1503-4791-c326-a995607d040b",
        "colab": {
          "base_uri": "https://localhost:8080/"
        }
      },
      "outputs": [
        {
          "output_type": "stream",
          "name": "stdout",
          "text": [
            "value1 = 3.1415, value2 = 1.5\n"
          ]
        }
      ],
      "source": [
        "# Alternativno, intuitivniji način za formatiranje string-a\n",
        "s3 = 'value1 = {0}, value2 = {1}'.format(3.1415, 1.5)\n",
        "\n",
        "print (s3)"
      ]
    },
    {
      "cell_type": "markdown",
      "metadata": {
        "id": "pdfDhXgweLAg"
      },
      "source": [
        "### Liste\n",
        "Liste su veoma slične strings, sa razlikom da svaki element može biti bilo kog tipa."
      ]
    },
    {
      "cell_type": "code",
      "execution_count": 171,
      "metadata": {
        "id": "5VgMXIrDeLAg",
        "outputId": "b0029e97-7719-4452-d649-03b55783b23a",
        "colab": {
          "base_uri": "https://localhost:8080/"
        }
      },
      "outputs": [
        {
          "output_type": "stream",
          "name": "stdout",
          "text": [
            "<class 'list'>\n",
            "[1, 2, 3, 4]\n"
          ]
        }
      ],
      "source": [
        "l = [1,2,3,4]\n",
        "\n",
        "print (type(l))\n",
        "print (l)"
      ]
    },
    {
      "cell_type": "code",
      "execution_count": 172,
      "metadata": {
        "id": "ZQJJ611oeLAg",
        "outputId": "1a135db8-8ba8-4e7f-d86b-fe6aa19ca574",
        "colab": {
          "base_uri": "https://localhost:8080/"
        }
      },
      "outputs": [
        {
          "output_type": "stream",
          "name": "stdout",
          "text": [
            "[1, 2, 3, 4]\n",
            "[2, 3]\n",
            "[1, 3]\n"
          ]
        }
      ],
      "source": [
        "# Pristup izdvajanju elemenata je isti kao i kod strings (indeksiranje počinje od nule)\n",
        "print (l)\n",
        "print (l[1:3])\n",
        "print (l[::2])"
      ]
    },
    {
      "cell_type": "markdown",
      "metadata": {
        "id": "yWbSPnP7eLAg"
      },
      "source": [
        "Python liste mogu biti nehomogene i proizvoljno nested.\n"
      ]
    },
    {
      "cell_type": "code",
      "execution_count": 173,
      "metadata": {
        "id": "nUQzZYgweLAg",
        "outputId": "927f9f6f-f29a-4436-bcd0-647f6a6d3eb5",
        "colab": {
          "base_uri": "https://localhost:8080/"
        }
      },
      "outputs": [
        {
          "output_type": "execute_result",
          "data": {
            "text/plain": [
              "[1, [2, [3, [4, [5]]]]]"
            ]
          },
          "metadata": {},
          "execution_count": 173
        }
      ],
      "source": [
        "nested_list = [1, [2, [3, [4, [5]]]]]\n",
        "\n",
        "nested_list"
      ]
    },
    {
      "cell_type": "markdown",
      "metadata": {
        "id": "V0NKYoW2eLAg"
      },
      "source": [
        "Postoji nekoliko fukncija za generisanje lista različitih tipova, npr. funkcija range:"
      ]
    },
    {
      "cell_type": "code",
      "execution_count": 174,
      "metadata": {
        "id": "b3RmZ74zeLAh",
        "outputId": "e2328321-07f4-47ab-f271-2f1768a93de5",
        "colab": {
          "base_uri": "https://localhost:8080/"
        }
      },
      "outputs": [
        {
          "output_type": "stream",
          "name": "stdout",
          "text": [
            "10 12 14\n"
          ]
        }
      ],
      "source": [
        "start = 10\n",
        "stop = 30\n",
        "step = 2\n",
        "\n",
        "test = range(start, stop, step)\n",
        "print (test[0], test[1], test[2])"
      ]
    },
    {
      "cell_type": "code",
      "execution_count": 175,
      "metadata": {
        "id": "WeGGoNW9eLAh",
        "outputId": "69a1b139-2a68-4c80-eb49-98ac639746ed",
        "colab": {
          "base_uri": "https://localhost:8080/"
        }
      },
      "outputs": [
        {
          "output_type": "execute_result",
          "data": {
            "text/plain": [
              "range(0, 10)"
            ]
          },
          "metadata": {},
          "execution_count": 175
        }
      ],
      "source": [
        "range(10)"
      ]
    },
    {
      "cell_type": "code",
      "execution_count": 176,
      "metadata": {
        "id": "a7hMU4WteLAh",
        "outputId": "a733254d-5920-45e0-f757-4f695f9ff151",
        "colab": {
          "base_uri": "https://localhost:8080/"
        }
      },
      "outputs": [
        {
          "output_type": "stream",
          "name": "stdout",
          "text": [
            "['H', 'e', 'l', 'l', 'o', ' ', 'w', 'o', 'r', 'l', 'd']\n"
          ]
        }
      ],
      "source": [
        "s = \"Hello world\"\n",
        "# Konvertovanje u listu\n",
        "s2 = list(s)\n",
        "print (s2)"
      ]
    },
    {
      "cell_type": "code",
      "execution_count": 177,
      "metadata": {
        "id": "Gwb5UA6AeLAh",
        "outputId": "7a6943e2-c66c-4eee-ee98-ba72d62a997f",
        "colab": {
          "base_uri": "https://localhost:8080/"
        }
      },
      "outputs": [
        {
          "output_type": "stream",
          "name": "stdout",
          "text": [
            "[' ', 'H', 'd', 'e', 'l', 'l', 'l', 'o', 'o', 'r', 'w']\n"
          ]
        }
      ],
      "source": [
        "# Sortiranje\n",
        "s2.sort()\n",
        "print (s2)"
      ]
    },
    {
      "cell_type": "markdown",
      "metadata": {
        "id": "5teNsxxYeLAh"
      },
      "source": [
        "#### Dodavanje, insertovanje, modifikovanje, i uklanjanje elemenata iz liste"
      ]
    },
    {
      "cell_type": "code",
      "execution_count": 178,
      "metadata": {
        "id": "sJLGVSmIeLAh",
        "outputId": "4644f95d-6f22-49dc-cc58-e70d771a1574",
        "colab": {
          "base_uri": "https://localhost:8080/"
        }
      },
      "outputs": [
        {
          "output_type": "stream",
          "name": "stdout",
          "text": [
            "['A', 'd', 'd']\n"
          ]
        }
      ],
      "source": [
        "# Kreiranje nove, prazne liste\n",
        "l = []\n",
        "\n",
        "# Dodavanje elemenata koristeći `append`\n",
        "l.append(\"A\")\n",
        "l.append(\"d\")\n",
        "l.append(\"d\")\n",
        "\n",
        "print (l)"
      ]
    },
    {
      "cell_type": "code",
      "execution_count": 179,
      "metadata": {
        "id": "7Xb0rjv_eLAh",
        "outputId": "28212b73-017a-4432-b29a-0496d14d7ac2",
        "colab": {
          "base_uri": "https://localhost:8080/"
        }
      },
      "outputs": [
        {
          "output_type": "execute_result",
          "data": {
            "text/plain": [
              "['g', 'd', 'd']"
            ]
          },
          "metadata": {},
          "execution_count": 179
        }
      ],
      "source": [
        "# Modifikovanje određenih vrednosti\n",
        "l[0] = 'g'\n",
        "l"
      ]
    },
    {
      "cell_type": "code",
      "execution_count": 180,
      "metadata": {
        "id": "tvbpwEnfeLAh",
        "outputId": "7384a333-835a-41bd-bb8c-8f7930e7fe8c",
        "colab": {
          "base_uri": "https://localhost:8080/"
        }
      },
      "outputs": [
        {
          "output_type": "stream",
          "name": "stdout",
          "text": [
            "['g', 'A', 'd', 'd']\n"
          ]
        }
      ],
      "source": [
        "# Insertovanje na određenu poziciju\n",
        "l.insert(1, \"A\")\n",
        "print (l)"
      ]
    },
    {
      "cell_type": "code",
      "execution_count": 181,
      "metadata": {
        "id": "LGPmh4uveLAh",
        "outputId": "5c3f9fc9-61e9-4535-d809-050bfda041d0",
        "colab": {
          "base_uri": "https://localhost:8080/"
        }
      },
      "outputs": [
        {
          "output_type": "stream",
          "name": "stdout",
          "text": [
            "['g', 'd', 'd']\n"
          ]
        }
      ],
      "source": [
        "# Uklanjanje elementa\n",
        "l.remove(\"A\")\n",
        "print (l)"
      ]
    },
    {
      "cell_type": "markdown",
      "metadata": {
        "id": "Y0U_UtWQeLAh"
      },
      "source": [
        "### Tuples\n",
        "\n",
        "Tuples su kao liste, sa razlikom što se ne mogu modifikovati nakon kreacije."
      ]
    },
    {
      "cell_type": "code",
      "execution_count": 182,
      "metadata": {
        "id": "icavam44eLAh",
        "outputId": "0c29e845-7084-4380-c2fc-b2fcbe150e9e",
        "colab": {
          "base_uri": "https://localhost:8080/"
        }
      },
      "outputs": [
        {
          "output_type": "stream",
          "name": "stdout",
          "text": [
            "(10, 20, 30) <class 'tuple'>\n"
          ]
        }
      ],
      "source": [
        "point = (10, 20, 30)\n",
        "\n",
        "print (point, type(point))"
      ]
    },
    {
      "cell_type": "code",
      "execution_count": 183,
      "metadata": {
        "id": "wPAVPDmYeLAh",
        "outputId": "1c489c94-08c9-4f34-c2c4-0b517304ce3b",
        "colab": {
          "base_uri": "https://localhost:8080/"
        }
      },
      "outputs": [
        {
          "output_type": "stream",
          "name": "stdout",
          "text": [
            "10 20 30\n"
          ]
        }
      ],
      "source": [
        "# Raspakivanje tuple-a tako što ga dodelimo u set varijabli razdvojenih zarezom:\n",
        "x, y, z = point\n",
        "print (x, y, z)"
      ]
    },
    {
      "cell_type": "code",
      "execution_count": 184,
      "metadata": {
        "id": "1UbMCS8CeLAh"
      },
      "outputs": [],
      "source": [
        "# Ovakva sintaksa ne funkcioniše, izbaciće grešku. Pitanje za vežbu: Zašto?\n",
        "# point[0] = 20"
      ]
    },
    {
      "cell_type": "markdown",
      "metadata": {
        "id": "qDJXZ4EceLAh"
      },
      "source": [
        "### Rečnici (dictionaries)\n",
        "Dictionaries su slični listama, sa razlikom što je svaki element predstavljen kao key-value par."
      ]
    },
    {
      "cell_type": "code",
      "execution_count": 186,
      "metadata": {
        "id": "JEsCIqtJeLAh",
        "outputId": "42650628-d0ef-4cdf-d9b9-b7d271afa35a",
        "colab": {
          "base_uri": "https://localhost:8080/"
        }
      },
      "outputs": [
        {
          "output_type": "stream",
          "name": "stdout",
          "text": [
            "<class 'dict'>\n",
            "{'parameter1': 1.0, 'parameter2': 2.0, 'parameter3': 3.0}\n"
          ]
        }
      ],
      "source": [
        "params = {\"parameter1\" : 1.0,\n",
        "          \"parameter2\" : 2.0,\n",
        "          \"parameter3\" : 3.0,}\n",
        "\n",
        "print (type(params))\n",
        "print (params)"
      ]
    },
    {
      "cell_type": "code",
      "execution_count": 187,
      "metadata": {
        "id": "CWctqQIoeLAh",
        "outputId": "df7a2cc0-b03a-4b2b-d34f-388c560efc80",
        "colab": {
          "base_uri": "https://localhost:8080/"
        }
      },
      "outputs": [
        {
          "output_type": "execute_result",
          "data": {
            "text/plain": [
              "1.0"
            ]
          },
          "metadata": {},
          "execution_count": 187
        }
      ],
      "source": [
        "params['parameter1']"
      ]
    },
    {
      "cell_type": "code",
      "execution_count": 188,
      "metadata": {
        "id": "HVHx81preLAh",
        "outputId": "5badb4ec-ab4d-4802-db06-c4b5c84ac390",
        "colab": {
          "base_uri": "https://localhost:8080/"
        }
      },
      "outputs": [
        {
          "output_type": "execute_result",
          "data": {
            "text/plain": [
              "{'new': 100, 'new2': 20}"
            ]
          },
          "metadata": {},
          "execution_count": 188
        }
      ],
      "source": [
        "# Kreiranje praznog rečnika\n",
        "params = dict()\n",
        "# Dodavanje novih elemenata\n",
        "params['new'] = 100\n",
        "params['new2'] = 20\n",
        "params"
      ]
    },
    {
      "cell_type": "code",
      "execution_count": 189,
      "metadata": {
        "id": "ktno6gMteLAi",
        "outputId": "e8b98b82-540a-49c4-b6fa-5dde67175b24",
        "colab": {
          "base_uri": "https://localhost:8080/"
        }
      },
      "outputs": [
        {
          "output_type": "execute_result",
          "data": {
            "text/plain": [
              "dict_keys(['new', 'new2'])"
            ]
          },
          "metadata": {},
          "execution_count": 189
        }
      ],
      "source": [
        "# Uzeti listu ključeva (keys):\n",
        "params.keys()"
      ]
    },
    {
      "cell_type": "code",
      "execution_count": 191,
      "metadata": {
        "id": "88hyDfHteLAi",
        "outputId": "fec41271-ceb0-4e34-e795-3da2f87db980",
        "colab": {
          "base_uri": "https://localhost:8080/"
        }
      },
      "outputs": [
        {
          "output_type": "execute_result",
          "data": {
            "text/plain": [
              "dict_values([100, 20])"
            ]
          },
          "metadata": {},
          "execution_count": 191
        }
      ],
      "source": [
        "# Preuzeti listu vrednosti (indeksirane na isti način kao i ključevi, održava key-value paralelu)\n",
        "params.values()"
      ]
    },
    {
      "cell_type": "code",
      "execution_count": 192,
      "metadata": {
        "id": "tWM3UtxBeLAi",
        "outputId": "7de1ba74-2f87-4d9d-8b83-57f4e57a0a73",
        "colab": {
          "base_uri": "https://localhost:8080/"
        }
      },
      "outputs": [
        {
          "output_type": "execute_result",
          "data": {
            "text/plain": [
              "dict_items([('new', 100), ('new2', 20)])"
            ]
          },
          "metadata": {},
          "execution_count": 192
        }
      ],
      "source": [
        "# Ili učitati informaciju kompletno (liste parova zajedno), keys i odgovarajuće vrednosti\n",
        "params.items()"
      ]
    },
    {
      "cell_type": "markdown",
      "metadata": {
        "id": "am9J95xQeLAi"
      },
      "source": [
        "## python: Učitavanje biblioteka\n",
        "\n",
        "Zarad korišćenja modula u python programu, oni prvo moraju biti učitani. Primer: Importovanje modula `math`, koji sadrži veliki broj standardnih matematičkih funkcija se može odraditi na sledeći način:"
      ]
    },
    {
      "cell_type": "code",
      "execution_count": 193,
      "metadata": {
        "id": "oRvFwkVHeLAi"
      },
      "outputs": [],
      "source": [
        "import math"
      ]
    },
    {
      "cell_type": "markdown",
      "metadata": {
        "id": "FB9gm8CceLAi"
      },
      "source": [
        "Ovakav pristup omogućava učitavanje celokupnog modula i čini ga dostupnim za kasniju upotrebu:\n",
        "\n"
      ]
    },
    {
      "cell_type": "code",
      "execution_count": 194,
      "metadata": {
        "id": "PS5RT2-reLAi",
        "outputId": "e4da82f4-7e9e-46e5-e16d-390a9c688973",
        "colab": {
          "base_uri": "https://localhost:8080/"
        }
      },
      "outputs": [
        {
          "output_type": "stream",
          "name": "stdout",
          "text": [
            "1.0\n"
          ]
        }
      ],
      "source": [
        "import math\n",
        "\n",
        "x = math.cos(2 * math.pi)\n",
        "\n",
        "print (x)"
      ]
    },
    {
      "cell_type": "markdown",
      "metadata": {
        "id": "Hg7me7rgeLAi"
      },
      "source": [
        "Možemo odabrati da učitamo samo deo funkcionalnosti modula, tako što ćemo eksplicitno izabrati šta želimo učitati:"
      ]
    },
    {
      "cell_type": "code",
      "execution_count": 195,
      "metadata": {
        "id": "KOp8eH-yeLAi",
        "outputId": "5acfc343-46fa-4099-d001-26e27fac5ae5",
        "colab": {
          "base_uri": "https://localhost:8080/"
        }
      },
      "outputs": [
        {
          "output_type": "stream",
          "name": "stdout",
          "text": [
            "1.0\n"
          ]
        }
      ],
      "source": [
        "from math import cos, pi\n",
        "\n",
        "x = cos(2 * pi)\n",
        "\n",
        "print(x)"
      ]
    },
    {
      "cell_type": "markdown",
      "metadata": {
        "id": "UHCslZVAeLAi"
      },
      "source": [
        "Korišćenjem funkcije `help` možemo dobiti opis svake od funkcionalnosti učitanog modula."
      ]
    },
    {
      "cell_type": "code",
      "execution_count": 196,
      "metadata": {
        "id": "YXU9octKeLAi",
        "outputId": "a56a2cf1-a9b2-4f4d-abc4-5a7214af2bb6",
        "colab": {
          "base_uri": "https://localhost:8080/"
        }
      },
      "outputs": [
        {
          "output_type": "stream",
          "name": "stdout",
          "text": [
            "Help on built-in function cos in module math:\n",
            "\n",
            "cos(x, /)\n",
            "    Return the cosine of x (measured in radians).\n",
            "\n"
          ]
        }
      ],
      "source": [
        "help(cos)"
      ]
    },
    {
      "cell_type": "markdown",
      "metadata": {
        "id": "pTE5zCh2eLAi"
      },
      "source": [
        "## Kompletiranje korišćenjem tastera tab\n",
        "\n",
        "Notebook-ovi koriste mašineriju koja omogućava auto-kompletiranje komandi. Kada otkucate deo komande i kliknete Tab dugme, notebook će prikazati drop listu sa svim dostupnim opcijama za kompletiranje."
      ]
    },
    {
      "cell_type": "markdown",
      "metadata": {
        "id": "jNcbeVX7eLAi"
      },
      "source": [
        "## python: if...elif...else"
      ]
    },
    {
      "cell_type": "code",
      "execution_count": 197,
      "metadata": {
        "id": "EMVC05ZHeLAi",
        "outputId": "5f0dafa4-af47-467a-8003-f0613fc94442",
        "colab": {
          "base_uri": "https://localhost:8080/"
        }
      },
      "outputs": [
        {
          "output_type": "stream",
          "name": "stdout",
          "text": [
            "value is ok\n"
          ]
        }
      ],
      "source": [
        "# if statement u python-u\n",
        "x = 2\n",
        "if x >= 10:\n",
        "    print (\"x > 10\")\n",
        "elif x % 5 == 0:\n",
        "    print (\"x < 0\")\n",
        "else:\n",
        "    print (\"value is ok\")"
      ]
    },
    {
      "cell_type": "code",
      "execution_count": 198,
      "metadata": {
        "id": "96Se-_i-eLAi"
      },
      "outputs": [],
      "source": [
        "# Dodatni primer: Testirati da li lista sadrži nulu\n",
        "x = [1, 2]\n",
        "if 0 not in x:\n",
        "    # do nothing\n",
        "    pass\n",
        "else:\n",
        "    print (\"List contains zero\")"
      ]
    },
    {
      "cell_type": "markdown",
      "metadata": {
        "id": "Y0CeCL00eLAi"
      },
      "source": [
        "## Shell komande\n",
        "\n",
        "Shell (bash) skripting se takođe može koristiti u notebook-ovima."
      ]
    },
    {
      "cell_type": "code",
      "execution_count": 201,
      "metadata": {
        "id": "9bURlB5QeLAi",
        "outputId": "01dd6dba-8c8d-4713-82d2-a4f483c01f07",
        "colab": {
          "base_uri": "https://localhost:8080/"
        }
      },
      "outputs": [
        {
          "output_type": "stream",
          "name": "stdout",
          "text": [
            "total 16K\n",
            "drwxr-xr-x 1 root root 4.0K Jul 10 13:34 .\n",
            "drwxr-xr-x 1 root root 4.0K Jul 14 11:54 ..\n",
            "drwxr-xr-x 4 root root 4.0K Jul 10 13:34 .config\n",
            "drwxr-xr-x 1 root root 4.0K Jul 10 13:35 sample_data\n"
          ]
        }
      ],
      "source": [
        "# run ls shell command\n",
        "!ls -lah"
      ]
    },
    {
      "cell_type": "code",
      "execution_count": 202,
      "metadata": {
        "id": "2ihgL4P8eLAi",
        "outputId": "59ee4905-24ac-43d1-da74-fbca35b2880a",
        "colab": {
          "base_uri": "https://localhost:8080/"
        }
      },
      "outputs": [
        {
          "output_type": "stream",
          "name": "stdout",
          "text": [
            "/content\n"
          ]
        }
      ],
      "source": [
        "!pwd"
      ]
    },
    {
      "cell_type": "markdown",
      "metadata": {
        "id": "_P60enZ7eLAi"
      },
      "source": [
        "## Magic\n",
        "\n",
        "Magics se koriste da pretvore jednostavan python u *magični* python."
      ]
    },
    {
      "cell_type": "code",
      "execution_count": 203,
      "metadata": {
        "id": "N-HRvgljeLAi",
        "outputId": "27a234f1-1f2e-47b2-a36d-43adbc86dea2",
        "colab": {
          "base_uri": "https://localhost:8080/",
          "height": 1000
        }
      },
      "outputs": [
        {
          "output_type": "execute_result",
          "data": {
            "text/plain": [
              "Available line magics:\n",
              "%alias  %alias_magic  %autoawait  %autocall  %automagic  %autosave  %bookmark  %cat  %cd  %clear  %colors  %conda  %config  %connect_info  %cp  %debug  %dhist  %dirs  %doctest_mode  %ed  %edit  %env  %gui  %hist  %history  %killbgscripts  %ldir  %less  %lf  %lk  %ll  %load  %load_ext  %loadpy  %logoff  %logon  %logstart  %logstate  %logstop  %ls  %lsmagic  %lx  %macro  %magic  %man  %matplotlib  %mkdir  %more  %mv  %notebook  %page  %pastebin  %pdb  %pdef  %pdoc  %pfile  %pinfo  %pinfo2  %pip  %popd  %pprint  %precision  %prun  %psearch  %psource  %pushd  %pwd  %pycat  %pylab  %qtconsole  %quickref  %recall  %rehashx  %reload_ext  %rep  %rerun  %reset  %reset_selective  %rm  %rmdir  %run  %save  %sc  %set_env  %shell  %store  %sx  %system  %tb  %tensorflow_version  %time  %timeit  %unalias  %unload_ext  %who  %who_ls  %whos  %xdel  %xmode\n",
              "\n",
              "Available cell magics:\n",
              "%%!  %%HTML  %%SVG  %%bash  %%bigquery  %%bqsql  %%capture  %%debug  %%file  %%html  %%javascript  %%js  %%latex  %%markdown  %%perl  %%prun  %%pypy  %%python  %%python2  %%python3  %%ruby  %%script  %%sh  %%shell  %%spanner_graph  %%svg  %%sx  %%system  %%time  %%timeit  %%writefile\n",
              "\n",
              "Automagic is ON, % prefix IS NOT needed for line magics."
            ],
            "application/json": {
              "line": {
                "automagic": "AutoMagics",
                "autocall": "AutoMagics",
                "alias_magic": "BasicMagics",
                "lsmagic": "BasicMagics",
                "magic": "BasicMagics",
                "page": "BasicMagics",
                "pprint": "BasicMagics",
                "colors": "BasicMagics",
                "xmode": "BasicMagics",
                "quickref": "BasicMagics",
                "doctest_mode": "BasicMagics",
                "gui": "BasicMagics",
                "precision": "BasicMagics",
                "notebook": "BasicMagics",
                "save": "CodeMagics",
                "pastebin": "CodeMagics",
                "loadpy": "CodeMagics",
                "load": "CodeMagics",
                "edit": "KernelMagics",
                "config": "ConfigMagics",
                "prun": "ExecutionMagics",
                "pdb": "ExecutionMagics",
                "debug": "ExecutionMagics",
                "tb": "ExecutionMagics",
                "run": "ExecutionMagics",
                "timeit": "ExecutionMagics",
                "time": "ExecutionMagics",
                "macro": "ExecutionMagics",
                "load_ext": "ExtensionMagics",
                "unload_ext": "ExtensionMagics",
                "reload_ext": "ExtensionMagics",
                "history": "HistoryMagics",
                "recall": "HistoryMagics",
                "rerun": "HistoryMagics",
                "logstart": "LoggingMagics",
                "logstop": "LoggingMagics",
                "logoff": "LoggingMagics",
                "logon": "LoggingMagics",
                "logstate": "LoggingMagics",
                "pinfo": "NamespaceMagics",
                "pinfo2": "NamespaceMagics",
                "pdef": "NamespaceMagics",
                "pdoc": "NamespaceMagics",
                "psource": "NamespaceMagics",
                "pfile": "NamespaceMagics",
                "psearch": "NamespaceMagics",
                "who_ls": "NamespaceMagics",
                "who": "NamespaceMagics",
                "whos": "NamespaceMagics",
                "reset": "NamespaceMagics",
                "reset_selective": "NamespaceMagics",
                "xdel": "NamespaceMagics",
                "alias": "OSMagics",
                "unalias": "OSMagics",
                "rehashx": "OSMagics",
                "pwd": "OSMagics",
                "cd": "OSMagics",
                "env": "OSMagics",
                "set_env": "OSMagics",
                "pushd": "OSMagics",
                "popd": "OSMagics",
                "dirs": "OSMagics",
                "dhist": "OSMagics",
                "sc": "OSMagics",
                "sx": "OSMagics",
                "system": "OSMagics",
                "bookmark": "OSMagics",
                "pycat": "OSMagics",
                "pip": "Other",
                "conda": "PackagingMagics",
                "matplotlib": "PylabMagics",
                "pylab": "PylabMagics",
                "killbgscripts": "ScriptMagics",
                "autoawait": "AsyncMagics",
                "ed": "Other",
                "hist": "Other",
                "rep": "Other",
                "clear": "KernelMagics",
                "less": "KernelMagics",
                "more": "KernelMagics",
                "man": "KernelMagics",
                "connect_info": "KernelMagics",
                "qtconsole": "KernelMagics",
                "autosave": "KernelMagics",
                "mkdir": "Other",
                "rmdir": "Other",
                "mv": "Other",
                "rm": "Other",
                "cp": "Other",
                "cat": "Other",
                "ls": "Other",
                "ll": "Other",
                "lf": "Other",
                "lk": "Other",
                "ldir": "Other",
                "lx": "Other",
                "store": "StoreMagics",
                "shell": "Other",
                "tensorflow_version": "Other"
              },
              "cell": {
                "js": "DisplayMagics",
                "javascript": "DisplayMagics",
                "latex": "DisplayMagics",
                "svg": "DisplayMagics",
                "html": "DisplayMagics",
                "markdown": "DisplayMagics",
                "prun": "ExecutionMagics",
                "debug": "ExecutionMagics",
                "timeit": "ExecutionMagics",
                "time": "ExecutionMagics",
                "capture": "ExecutionMagics",
                "sx": "OSMagics",
                "system": "OSMagics",
                "!": "OSMagics",
                "writefile": "OSMagics",
                "script": "ScriptMagics",
                "sh": "Other",
                "bash": "Other",
                "perl": "Other",
                "ruby": "Other",
                "python": "Other",
                "python2": "Other",
                "python3": "Other",
                "pypy": "Other",
                "SVG": "Other",
                "HTML": "Other",
                "file": "Other",
                "bigquery": "Other",
                "spanner_graph": "Other",
                "shell": "Other",
                "bqsql": "Other"
              }
            }
          },
          "metadata": {},
          "execution_count": 203
        }
      ],
      "source": [
        "# Lista dostupnih python magic-a\n",
        "%lsmagic"
      ]
    },
    {
      "cell_type": "code",
      "execution_count": 205,
      "metadata": {
        "id": "Ae_miS3WeLAj",
        "outputId": "58635788-4598-4ebf-8bc2-a62fd111b1f6",
        "colab": {
          "base_uri": "https://localhost:8080/"
        }
      },
      "outputs": [
        {
          "output_type": "stream",
          "name": "stdout",
          "text": [
            "CPU times: user 3 µs, sys: 0 ns, total: 3 µs\n",
            "Wall time: 5.96 µs\n"
          ]
        }
      ],
      "source": [
        "%%time\n",
        "# magic komanda koja daje vremenske informacije o izvršavanju koda unutar ćelije\n",
        "x=1"
      ]
    },
    {
      "cell_type": "markdown",
      "metadata": {
        "id": "u8LnWqTGeLAj"
      },
      "source": [
        "## Detaljnije informacije o osnovnom kodu python funkcija / klasa dodatavnjem (?, ??)"
      ]
    },
    {
      "cell_type": "code",
      "execution_count": 206,
      "metadata": {
        "id": "qZolkc0xeLAj"
      },
      "outputs": [],
      "source": [
        "from collections import Counter\n",
        "# Prikazuje osnovni kod funkcije/klase/objekta u pop-up prozoru sa desne strane\n",
        "Counter??"
      ]
    },
    {
      "cell_type": "code",
      "execution_count": 208,
      "metadata": {
        "id": "2wT-OJn1eLAj"
      },
      "outputs": [],
      "source": [
        "# Možemo koristiti ? da dobijemo detaljnije informacije o magics:\n",
        "%%time?"
      ]
    },
    {
      "cell_type": "markdown",
      "metadata": {
        "id": "lp5fsojGeLAj"
      },
      "source": [
        "## python: Petlje"
      ]
    },
    {
      "cell_type": "code",
      "execution_count": 209,
      "metadata": {
        "id": "ikzu0Nc_eLAj",
        "outputId": "9c3a11fc-3bf5-4cc6-d6d4-f195c97a3e24",
        "colab": {
          "base_uri": "https://localhost:8080/"
        }
      },
      "outputs": [
        {
          "output_type": "stream",
          "name": "stdout",
          "text": [
            "2\n",
            "10\n",
            "5\n"
          ]
        }
      ],
      "source": [
        "x = {'ice cream': 2, 'chocolate': 10, 'cookies': 5}\n",
        "print (x['ice cream'])\n",
        "print (x['chocolate'])\n",
        "print (x['cookies'])"
      ]
    },
    {
      "cell_type": "markdown",
      "metadata": {
        "id": "4Rn4U8EGeLAj"
      },
      "source": [
        " `for` petlja u python-u vrši iteraciju po elementima bilo kakve sekvence (npr. lista ili string), prateći red u kojem se elementi pojavljuju u sekvenci."
      ]
    },
    {
      "cell_type": "code",
      "execution_count": 210,
      "metadata": {
        "id": "n1PlO6JYeLAj",
        "outputId": "56afa459-89c4-4cb9-f9ee-8ebc3cfec5ba",
        "colab": {
          "base_uri": "https://localhost:8080/"
        }
      },
      "outputs": [
        {
          "output_type": "stream",
          "name": "stdout",
          "text": [
            "ice cream 2\n",
            "chocolate 10\n",
            "cookies 5\n"
          ]
        }
      ],
      "source": [
        "for key in x.keys():\n",
        "    print (key, x[key])"
      ]
    },
    {
      "cell_type": "markdown",
      "metadata": {
        "id": "HvJDGRsCeLAj"
      },
      "source": [
        "`for` petlje se takođe mogu koristiti za iteraciju kroz rečnike koristeći .items() metod (pri čemu se iteracija vrši po svakom key-value paru):"
      ]
    },
    {
      "cell_type": "code",
      "execution_count": 212,
      "metadata": {
        "id": "eWW_t0A2eLAj",
        "outputId": "bb159247-4924-4ec7-bf46-871ac9660a8f",
        "colab": {
          "base_uri": "https://localhost:8080/"
        }
      },
      "outputs": [
        {
          "output_type": "stream",
          "name": "stdout",
          "text": [
            "ice cream 2\n",
            "chocolate 10\n",
            "cookies 5\n"
          ]
        }
      ],
      "source": [
        "for key, value in x.items():\n",
        "    print (key, value)"
      ]
    },
    {
      "cell_type": "code",
      "execution_count": 213,
      "metadata": {
        "id": "F-aeEwJWeLAj",
        "outputId": "d27ca997-7893-4755-9d5a-9d6a2de9a7d9",
        "colab": {
          "base_uri": "https://localhost:8080/"
        }
      },
      "outputs": [
        {
          "output_type": "stream",
          "name": "stdout",
          "text": [
            "[10, 11, 12, 13, 14, 15, 16, 17, 18, 19]\n",
            "CPU times: user 95.7 ms, sys: 17.7 ms, total: 113 ms\n",
            "Wall time: 114 ms\n"
          ]
        }
      ],
      "source": [
        "%%time\n",
        "x = []\n",
        "for i in range(1000000):\n",
        "    x.append(i + 10)\n",
        "print (x[:10])"
      ]
    },
    {
      "cell_type": "markdown",
      "metadata": {
        "id": "XSOClTfyeLAj"
      },
      "source": [
        "## Zadatak za vežbu 2\n",
        "\n",
        "Napisati petlju za štampanje neparnih intiger brojeva u rasponu od $0\\leq i \\leq 10000$."
      ]
    },
    {
      "cell_type": "code",
      "execution_count": 217,
      "metadata": {
        "id": "kR5ytg4beLAj"
      },
      "outputs": [],
      "source": [
        "# Rešenje"
      ]
    },
    {
      "cell_type": "markdown",
      "metadata": {
        "id": "Y92nb57NeLAj"
      },
      "source": [
        "## python: Funkcije\n",
        "\n",
        "Interfejs za funkcije unutar python-a izgleda kao:\n",
        "\n",
        "```python\n",
        "def <function_name>(<parameters list>):\n",
        "    # naš kod\n",
        "    return <results list> # nije obavezno\n",
        "```\n"
      ]
    },
    {
      "cell_type": "code",
      "execution_count": 219,
      "metadata": {
        "id": "vl05Ul4DeLAj",
        "outputId": "2742c6c6-e79c-4056-f441-edf6f5ecdf28",
        "colab": {
          "base_uri": "https://localhost:8080/"
        }
      },
      "outputs": [
        {
          "output_type": "execute_result",
          "data": {
            "text/plain": [
              "8"
            ]
          },
          "metadata": {},
          "execution_count": 219
        }
      ],
      "source": [
        "def compute_power(x, y, default_value=1):\n",
        "    return default_value * (x**y)\n",
        "\n",
        "compute_power(2, 3)"
      ]
    },
    {
      "cell_type": "markdown",
      "metadata": {
        "id": "81240H89eLAj"
      },
      "source": [
        "## Zadatak za vežbu 3\n",
        "\n",
        "- Napisati funkciju koja može sračunati i napraviti $[x_0 + x_1, x_1 + x_2, ..., x_{n-1} + x_n]$ za dati niz $x$.\n",
        "- Napisati funkciju koja će da vrati invertovanu verziju ulazng string-a."
      ]
    },
    {
      "cell_type": "code",
      "execution_count": 220,
      "metadata": {
        "id": "pmJjkTgEeLAj"
      },
      "outputs": [],
      "source": [
        "# kod"
      ]
    },
    {
      "cell_type": "markdown",
      "metadata": {
        "id": "8Tb3muygeLAj"
      },
      "source": [
        "# Reference\n",
        "\n",
        "* Jupyter capabilities in details: http://arogozhnikov.github.io/2016/09/10/jupyter-features.html\n",
        "* Intro to python and reading data: https://gist.github.com/jonathanmorgan/fb5e16049bf4617b2d3d\n",
        "* Scientific python: https://gist.github.com/fonnesbeck/f89ec8bc8271395c4466465802ba44a3\n",
        "* Many examples are taken from https://github.com/jrjohansson/scientific-python-lectures/blob/master/Lecture-1-Introduction-to-Python-Programming.ipynb\n"
      ]
    },
    {
      "cell_type": "code",
      "execution_count": null,
      "metadata": {
        "id": "VdjrnOI3eLAj"
      },
      "outputs": [],
      "source": []
    }
  ],
  "metadata": {
    "kernelspec": {
      "display_name": "Python 3",
      "language": "python",
      "name": "python3"
    },
    "language_info": {
      "codemirror_mode": {
        "name": "ipython",
        "version": 3
      },
      "file_extension": ".py",
      "mimetype": "text/x-python",
      "name": "python",
      "nbconvert_exporter": "python",
      "pygments_lexer": "ipython3",
      "version": "3.9.12"
    },
    "colab": {
      "provenance": []
    }
  },
  "nbformat": 4,
  "nbformat_minor": 0
}