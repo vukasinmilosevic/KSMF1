{
  "cells": [
    {
      "cell_type": "markdown",
      "metadata": {
        "id": "d-qWTa33LfD-"
      },
      "source": [
        "## Osnovne manipulacije tekstom"
      ]
    },
    {
      "cell_type": "code",
      "execution_count": 55,
      "metadata": {
        "id": "A_mOzZSALfD_",
        "outputId": "9dd9aba3-85df-44ad-bfeb-0013d57f4c2e",
        "colab": {
          "base_uri": "https://localhost:8080/"
        }
      },
      "outputs": [
        {
          "output_type": "stream",
          "name": "stdout",
          "text": [
            "hello Alex\n"
          ]
        }
      ],
      "source": [
        "print ('hello Alex')"
      ]
    },
    {
      "cell_type": "code",
      "execution_count": 56,
      "metadata": {
        "id": "ZDaBNxPjLfD_",
        "outputId": "66c7402b-5e21-4d89-e1e5-30c0e5821aa9",
        "colab": {
          "base_uri": "https://localhost:8080/"
        }
      },
      "outputs": [
        {
          "output_type": "stream",
          "name": "stdout",
          "text": [
            "3\n"
          ]
        }
      ],
      "source": [
        "x = 3\n",
        "print (x)"
      ]
    },
    {
      "cell_type": "code",
      "execution_count": 57,
      "metadata": {
        "id": "ZMhXOKtGLfD_",
        "outputId": "512d21b1-c51f-4157-8332-d4602fd98337",
        "colab": {
          "base_uri": "https://localhost:8080/"
        }
      },
      "outputs": [
        {
          "output_type": "execute_result",
          "data": {
            "text/plain": [
              "8"
            ]
          },
          "metadata": {},
          "execution_count": 57
        }
      ],
      "source": [
        "# Pokrenite ovu ćeliju nekoliko puta.\n",
        "x = x + 5\n",
        "# Output poslednje linije će biti prikazan.\n",
        "x"
      ]
    },
    {
      "cell_type": "code",
      "execution_count": 58,
      "metadata": {
        "id": "6xCpZX1xLfD_",
        "outputId": "99d2e52e-2730-499a-955e-85613bd6017a",
        "colab": {
          "base_uri": "https://localhost:8080/",
          "height": 35
        }
      },
      "outputs": [
        {
          "output_type": "execute_result",
          "data": {
            "text/plain": [
              "'string može saržati karaktere koji uključuju i \\n nove redove i \\t tabove'"
            ],
            "application/vnd.google.colaboratory.intrinsic+json": {
              "type": "string"
            }
          },
          "metadata": {},
          "execution_count": 58
        }
      ],
      "source": [
        "\n",
        "my_string = \"string može saržati karaktere koji uključuju i \\n nove redove i \\t tabove\"\n",
        "my_string"
      ]
    },
    {
      "cell_type": "code",
      "execution_count": 59,
      "metadata": {
        "id": "OhOihyZrLfEA",
        "outputId": "b7095798-de9f-444f-b42a-181ba7306a70",
        "colab": {
          "base_uri": "https://localhost:8080/"
        }
      },
      "outputs": [
        {
          "output_type": "stream",
          "name": "stdout",
          "text": [
            "string može saržati karaktere koji uključuju i \n",
            " nove redove i \t tabove\n"
          ]
        }
      ],
      "source": [
        "print (my_string)"
      ]
    },
    {
      "cell_type": "code",
      "execution_count": 60,
      "metadata": {
        "id": "6PQPHHjfLfEA",
        "outputId": "83b592a3-3dbb-4542-8470-e7f55d1af5d3",
        "colab": {
          "base_uri": "https://localhost:8080/"
        }
      },
      "outputs": [
        {
          "output_type": "execute_result",
          "data": {
            "text/plain": [
              "57"
            ]
          },
          "metadata": {},
          "execution_count": 60
        }
      ],
      "source": [
        "#Isto važi i za output-e matematičkih operacija\n",
        "\n",
        "12 + 45"
      ]
    },
    {
      "cell_type": "code",
      "execution_count": 61,
      "metadata": {
        "id": "f6v_0yUbLfEA",
        "outputId": "d4305e5e-bc13-4c83-dd62-77c883f54cac",
        "colab": {
          "base_uri": "https://localhost:8080/"
        }
      },
      "outputs": [
        {
          "output_type": "execute_result",
          "data": {
            "text/plain": [
              "84.0"
            ]
          },
          "metadata": {},
          "execution_count": 61
        }
      ],
      "source": [
        "#Isto važi i za output-e matematičkih operacija\n",
        "\n",
        "24 * 3.5"
      ]
    },
    {
      "cell_type": "markdown",
      "metadata": {
        "id": "lGYNXM5sLfEA"
      },
      "source": [
        "## Liste (lists), rečnici (dictionaries)"
      ]
    },
    {
      "cell_type": "code",
      "execution_count": 62,
      "metadata": {
        "id": "iRnkjbaILfEA"
      },
      "outputs": [],
      "source": [
        "x = [1, 2, 3]"
      ]
    },
    {
      "cell_type": "code",
      "execution_count": 63,
      "metadata": {
        "id": "aGjUcZarLfEA",
        "outputId": "8443d5fc-e134-4899-86ab-c4e7cff88079",
        "colab": {
          "base_uri": "https://localhost:8080/"
        }
      },
      "outputs": [
        {
          "output_type": "execute_result",
          "data": {
            "text/plain": [
              "(1, 3)"
            ]
          },
          "metadata": {},
          "execution_count": 63
        }
      ],
      "source": [
        "# U python-u, numeracija počinje od 0\n",
        "x[0], x[2]"
      ]
    },
    {
      "cell_type": "code",
      "execution_count": 64,
      "metadata": {
        "id": "_N1j55UWLfEB",
        "outputId": "529273bc-0aed-411f-e410-132f35e30f6d",
        "colab": {
          "base_uri": "https://localhost:8080/"
        }
      },
      "outputs": [
        {
          "output_type": "execute_result",
          "data": {
            "text/plain": [
              "[1, 2, 5, 10]"
            ]
          },
          "metadata": {},
          "execution_count": 64
        }
      ],
      "source": [
        "y = x[0:2] + [5, 10]\n",
        "y"
      ]
    },
    {
      "cell_type": "code",
      "execution_count": 65,
      "metadata": {
        "id": "u_2LevIQLfEB",
        "outputId": "5be28405-41dd-4cdc-9b54-02a473612721",
        "colab": {
          "base_uri": "https://localhost:8080/"
        }
      },
      "outputs": [
        {
          "output_type": "execute_result",
          "data": {
            "text/plain": [
              "[1, 5]"
            ]
          },
          "metadata": {},
          "execution_count": 65
        }
      ],
      "source": [
        "y[::2]"
      ]
    },
    {
      "cell_type": "code",
      "execution_count": 66,
      "metadata": {
        "id": "FVTY06QNLfEB",
        "outputId": "0503e686-7984-497e-d975-8c6e87cf5edc",
        "colab": {
          "base_uri": "https://localhost:8080/"
        }
      },
      "outputs": [
        {
          "output_type": "execute_result",
          "data": {
            "text/plain": [
              "[10, 5, 2, 1]"
            ]
          },
          "metadata": {},
          "execution_count": 66
        }
      ],
      "source": [
        "y[::-1]"
      ]
    },
    {
      "cell_type": "markdown",
      "metadata": {
        "id": "yuTyEi9_LfEB"
      },
      "source": [
        "## Rečnici"
      ]
    },
    {
      "cell_type": "code",
      "execution_count": 67,
      "metadata": {
        "id": "s5i2WCvSLfEB"
      },
      "outputs": [],
      "source": [
        "d = {'a': 1, 'b': 2}"
      ]
    },
    {
      "cell_type": "code",
      "execution_count": 68,
      "metadata": {
        "id": "oOGmhRvZLfEB",
        "outputId": "17609219-7440-4f90-93c4-f85912af3274",
        "colab": {
          "base_uri": "https://localhost:8080/"
        }
      },
      "outputs": [
        {
          "output_type": "execute_result",
          "data": {
            "text/plain": [
              "{'a': 1, 'b': 2, 'c': 3, 'casdsd': 34}"
            ]
          },
          "metadata": {},
          "execution_count": 68
        }
      ],
      "source": [
        "d['c'] = 3\n",
        "d['casdsd'] = 34\n",
        "d"
      ]
    },
    {
      "cell_type": "code",
      "execution_count": 69,
      "metadata": {
        "id": "iNj6PG55LfEB",
        "outputId": "7fe89c3e-72dc-4f3d-f0f8-443cf1ea06e7",
        "colab": {
          "base_uri": "https://localhost:8080/"
        }
      },
      "outputs": [
        {
          "output_type": "stream",
          "name": "stdout",
          "text": [
            "a 1\n",
            "b 2\n",
            "c 3\n",
            "casdsd 34\n"
          ]
        }
      ],
      "source": [
        "for key, value in d.items():\n",
        "    print (key, value)"
      ]
    },
    {
      "cell_type": "markdown",
      "metadata": {
        "id": "TDAMVxDtLfEB"
      },
      "source": [
        "## Važne python biblioteke\n",
        "\n",
        " - numpy (numeričke operacije) + scipy (matematičke funkcije bitne za naučno programiranje)\n",
        " - matplotlib - grafičko prikazivanje rezultata\n",
        " - pandas - set operacija i fukncija za rad sa velikom količinom podataka (dataframe pristup nauci o podacima)\n",
        " - scikit-learn - biblioteke za mašinsko učenje"
      ]
    },
    {
      "cell_type": "markdown",
      "metadata": {
        "id": "Zxek8_-nLfEB"
      },
      "source": [
        "## Zdravo numpy!\n",
        "\n",
        "`numpy` predstavlja jezgro tzv. naučnog python-a. Predstavlja najpristupačniji set alata za organizaciju numeričkih operacija u python-u."
      ]
    },
    {
      "cell_type": "code",
      "execution_count": 70,
      "metadata": {
        "id": "lUiykSPqLfEB"
      },
      "outputs": [],
      "source": [
        "import numpy"
      ]
    },
    {
      "cell_type": "code",
      "execution_count": 71,
      "metadata": {
        "id": "CVtXdC1ELfEB",
        "outputId": "260d039f-be97-4f91-994d-a22b254be4c7",
        "colab": {
          "base_uri": "https://localhost:8080/"
        }
      },
      "outputs": [
        {
          "output_type": "execute_result",
          "data": {
            "text/plain": [
              "array([0, 1, 2, 3, 4, 5, 6, 7, 8, 9])"
            ]
          },
          "metadata": {},
          "execution_count": 71
        }
      ],
      "source": [
        "x = numpy.arange(10)\n",
        "x"
      ]
    },
    {
      "cell_type": "code",
      "execution_count": 72,
      "metadata": {
        "id": "DU4BhSS_LfEB",
        "outputId": "8c4c369d-ff73-4f57-ee2d-a59563ae0778",
        "colab": {
          "base_uri": "https://localhost:8080/"
        }
      },
      "outputs": [
        {
          "output_type": "execute_result",
          "data": {
            "text/plain": [
              "array([[0, 1],\n",
              "       [2, 3],\n",
              "       [4, 5],\n",
              "       [6, 7],\n",
              "       [8, 9]])"
            ]
          },
          "metadata": {},
          "execution_count": 72
        }
      ],
      "source": [
        "x.reshape(5, 2)"
      ]
    },
    {
      "cell_type": "code",
      "execution_count": 73,
      "metadata": {
        "id": "t1o1vOJILfEB",
        "colab": {
          "base_uri": "https://localhost:8080/"
        },
        "outputId": "695ff4e1-00d8-4409-cb89-0f6835867d35"
      },
      "outputs": [
        {
          "output_type": "execute_result",
          "data": {
            "text/plain": [
              "array([[0, 1, 2, 3, 4],\n",
              "       [5, 6, 7, 8, 9]])"
            ]
          },
          "metadata": {},
          "execution_count": 73
        }
      ],
      "source": [
        " x.reshape(2, 5)"
      ]
    },
    {
      "cell_type": "code",
      "execution_count": 74,
      "metadata": {
        "id": "IahbxMmsLfEB",
        "outputId": "1f070776-2423-4365-c46e-38c81f1dc786",
        "colab": {
          "base_uri": "https://localhost:8080/"
        }
      },
      "outputs": [
        {
          "output_type": "execute_result",
          "data": {
            "text/plain": [
              "array([0, 1, 2, 3])"
            ]
          },
          "metadata": {},
          "execution_count": 74
        }
      ],
      "source": [
        "# slicing ima istu logiku kao i za liste, strings, tuples, numpy,...\n",
        "x[:4]"
      ]
    },
    {
      "cell_type": "code",
      "execution_count": 75,
      "metadata": {
        "id": "0nrf4kx_LfEB",
        "outputId": "b8d971f9-7e13-4bd5-80fa-095eebc39679",
        "colab": {
          "base_uri": "https://localhost:8080/"
        }
      },
      "outputs": [
        {
          "output_type": "stream",
          "name": "stdout",
          "text": [
            "[0 1 2]\n",
            "[3 4 5 6]\n",
            "[7 8 9]\n"
          ]
        }
      ],
      "source": [
        "print (x[:3])\n",
        "print (x[3:7])\n",
        "print (x[7:])"
      ]
    },
    {
      "cell_type": "markdown",
      "metadata": {
        "id": "YVOvYJmDLfEB"
      },
      "source": [
        "### Vektorske operacije"
      ]
    },
    {
      "cell_type": "code",
      "execution_count": 76,
      "metadata": {
        "id": "bkC8Ah8KLfEB",
        "outputId": "f047ae2f-8b40-4462-d53f-9bfeb40e0678",
        "colab": {
          "base_uri": "https://localhost:8080/"
        }
      },
      "outputs": [
        {
          "output_type": "stream",
          "name": "stdout",
          "text": [
            "[     0      1      2 ... 999997 999998 999999]\n"
          ]
        },
        {
          "output_type": "execute_result",
          "data": {
            "text/plain": [
              "array([1.200000e+01, 1.500000e+01, 1.800000e+01, ..., 3.000003e+06,\n",
              "       3.000006e+06, 3.000009e+06])"
            ]
          },
          "metadata": {},
          "execution_count": 76
        }
      ],
      "source": [
        "x = numpy.arange(10 ** 6) # Output predstavljaju jednako razmaknute vrednosti za dati interval\n",
        "print(x)\n",
        "# Vektorske operacije izvršavaju sličan zadatak za svaki element. U ovom slučaju, svaki element je pomnožena sa 3 i dodata mu je konstantna vrednost 12.\n",
        "3 * x + 12."
      ]
    },
    {
      "cell_type": "code",
      "execution_count": 77,
      "metadata": {
        "id": "OXelXPx-LfEC",
        "outputId": "1ce682d6-25c1-49a3-80f6-f07a6b97242a",
        "colab": {
          "base_uri": "https://localhost:8080/"
        }
      },
      "outputs": [
        {
          "output_type": "stream",
          "name": "stdout",
          "text": [
            "3.54 ms ± 471 µs per loop (mean ± std. dev. of 7 runs, 100 loops each)\n"
          ]
        }
      ],
      "source": [
        "# Korišćenje operacije timeit zarad razumevanja da je ovakva računica izuzetno brza.\n",
        "%timeit 3 * x + 12."
      ]
    },
    {
      "cell_type": "code",
      "execution_count": 78,
      "metadata": {
        "id": "Pox7g6CPLfEC",
        "outputId": "24b5fbb0-9ecc-4317-c027-d3d7db4d845b",
        "colab": {
          "base_uri": "https://localhost:8080/"
        }
      },
      "outputs": [
        {
          "output_type": "execute_result",
          "data": {
            "text/plain": [
              "array([[ 0,  1,  2],\n",
              "       [ 3,  4,  5],\n",
              "       [ 6,  7,  8],\n",
              "       [ 9, 10, 11],\n",
              "       [12, 13, 14]])"
            ]
          },
          "metadata": {},
          "execution_count": 78
        }
      ],
      "source": [
        "Z = numpy.arange(15).reshape(5, 3)\n",
        "Z"
      ]
    },
    {
      "cell_type": "code",
      "execution_count": 79,
      "metadata": {
        "id": "-Fs_Fsf-LfEC",
        "outputId": "055ddc9b-eb1a-4880-a061-1a87c23ed60d",
        "colab": {
          "base_uri": "https://localhost:8080/"
        }
      },
      "outputs": [
        {
          "output_type": "execute_result",
          "data": {
            "text/plain": [
              "array([[ 0.,  1.,  2.],\n",
              "       [ 3.,  4.,  5.],\n",
              "       [ 6.,  7.,  8.],\n",
              "       [ 9., 10., 11.],\n",
              "       [12., 13., 14.]])"
            ]
          },
          "metadata": {},
          "execution_count": 79
        }
      ],
      "source": [
        "numpy.log(numpy.exp(Z)) # type conversion happened"
      ]
    },
    {
      "cell_type": "code",
      "execution_count": 80,
      "metadata": {
        "id": "zsiBwcwGLfEC"
      },
      "outputs": [],
      "source": [
        "Z += 4"
      ]
    },
    {
      "cell_type": "code",
      "execution_count": 81,
      "metadata": {
        "id": "ZPaLo0TJLfEC",
        "outputId": "7bd91692-79e1-44b6-adae-d3642d6addb7",
        "colab": {
          "base_uri": "https://localhost:8080/"
        }
      },
      "outputs": [
        {
          "output_type": "execute_result",
          "data": {
            "text/plain": [
              "array([[ 4,  5,  6],\n",
              "       [ 7,  8,  9],\n",
              "       [10, 11, 12],\n",
              "       [13, 14, 15],\n",
              "       [16, 17, 18]])"
            ]
          },
          "metadata": {},
          "execution_count": 81
        }
      ],
      "source": [
        "Z"
      ]
    },
    {
      "cell_type": "code",
      "execution_count": 82,
      "metadata": {
        "id": "DIHgwY_wLfEC",
        "outputId": "9d96533d-d1fd-4c8b-966e-bf8a5bcde568",
        "colab": {
          "base_uri": "https://localhost:8080/"
        }
      },
      "outputs": [
        {
          "output_type": "execute_result",
          "data": {
            "text/plain": [
              "array([[ 4,  5,  6],\n",
              "       [10, 11, 12],\n",
              "       [16, 17, 18]])"
            ]
          },
          "metadata": {},
          "execution_count": 82
        }
      ],
      "source": [
        "Z[::2, :]"
      ]
    },
    {
      "cell_type": "code",
      "execution_count": 83,
      "metadata": {
        "id": "ScF2q4BnLfEC",
        "outputId": "55da2089-9841-4e94-a4f9-6db8b21416b5",
        "colab": {
          "base_uri": "https://localhost:8080/"
        }
      },
      "outputs": [
        {
          "output_type": "execute_result",
          "data": {
            "text/plain": [
              "array([[ 4,  5,  6],\n",
              "       [10, 11, 12],\n",
              "       [16, 17, 18]])"
            ]
          },
          "metadata": {},
          "execution_count": 83
        }
      ],
      "source": [
        "Z[[0, 2, 4], :]"
      ]
    },
    {
      "cell_type": "code",
      "execution_count": 84,
      "metadata": {
        "id": "7nbsbCmrLfEC",
        "outputId": "b1e128c5-e684-4a88-fcf0-448bdf559939",
        "colab": {
          "base_uri": "https://localhost:8080/"
        }
      },
      "outputs": [
        {
          "output_type": "execute_result",
          "data": {
            "text/plain": [
              "array([15, 24, 33, 42, 51])"
            ]
          },
          "metadata": {},
          "execution_count": 84
        }
      ],
      "source": [
        "Z.sum(axis=1)"
      ]
    },
    {
      "cell_type": "code",
      "execution_count": 85,
      "metadata": {
        "id": "wjG4uNOuLfEC",
        "outputId": "7ceb75ef-ea3e-4220-87b2-79a66fbe816d",
        "colab": {
          "base_uri": "https://localhost:8080/"
        }
      },
      "outputs": [
        {
          "output_type": "execute_result",
          "data": {
            "text/plain": [
              "array([50, 55, 60])"
            ]
          },
          "metadata": {},
          "execution_count": 85
        }
      ],
      "source": [
        "# Numeracija osa takođe počinje od 0.\n",
        "Z.sum(axis=0)"
      ]
    },
    {
      "cell_type": "code",
      "execution_count": 86,
      "metadata": {
        "id": "yusanhhULfEC",
        "outputId": "2546f046-1d8e-4498-ac97-6987ad9874df",
        "colab": {
          "base_uri": "https://localhost:8080/"
        }
      },
      "outputs": [
        {
          "output_type": "execute_result",
          "data": {
            "text/plain": [
              "array([ 6,  9, 12, 15, 18])"
            ]
          },
          "metadata": {},
          "execution_count": 86
        }
      ],
      "source": [
        "Z.max(axis=1)"
      ]
    },
    {
      "cell_type": "code",
      "execution_count": 87,
      "metadata": {
        "id": "nR9zjFwSLfEC",
        "outputId": "f5724f67-a8d5-48be-bbb0-6733d4e9eb9e",
        "colab": {
          "base_uri": "https://localhost:8080/"
        }
      },
      "outputs": [
        {
          "output_type": "execute_result",
          "data": {
            "text/plain": [
              "array([[ -6,  -5,  -4],\n",
              "       [ -9,  -8,  -7],\n",
              "       [-12, -11, -10],\n",
              "       [-15, -14, -13],\n",
              "       [-18, -17, -16]])"
            ]
          },
          "metadata": {},
          "execution_count": 87
        }
      ],
      "source": [
        "Z2 = - Z\n",
        "Z2 = numpy.sort(Z2, axis=1)\n",
        "Z2"
      ]
    },
    {
      "cell_type": "markdown",
      "metadata": {
        "id": "XYk_krUsLfEC"
      },
      "source": [
        "## Index-iranje sa boolean nizom"
      ]
    },
    {
      "cell_type": "code",
      "execution_count": 88,
      "metadata": {
        "id": "NkM8Jh-3LfEC",
        "outputId": "75cb0bd4-e481-4c63-f7a0-eb7fe9293fbb",
        "colab": {
          "base_uri": "https://localhost:8080/"
        }
      },
      "outputs": [
        {
          "output_type": "execute_result",
          "data": {
            "text/plain": [
              "array([0, 1, 2, 3, 4, 5, 6, 7, 8, 9])"
            ]
          },
          "metadata": {},
          "execution_count": 88
        }
      ],
      "source": [
        "x = numpy.arange(10)\n",
        "x"
      ]
    },
    {
      "cell_type": "code",
      "execution_count": 89,
      "metadata": {
        "id": "q_BEvCtsLfEC",
        "outputId": "ba386018-e97a-4327-eee8-22320a3f6807",
        "colab": {
          "base_uri": "https://localhost:8080/"
        }
      },
      "outputs": [
        {
          "output_type": "execute_result",
          "data": {
            "text/plain": [
              "array([False, False, False, False,  True,  True,  True,  True,  True,\n",
              "        True])"
            ]
          },
          "metadata": {},
          "execution_count": 89
        }
      ],
      "source": [
        "x > 3"
      ]
    },
    {
      "cell_type": "code",
      "execution_count": 90,
      "metadata": {
        "id": "2F2eRuOILfEC",
        "outputId": "bd36dc18-08af-4f37-e222-9fed2db23a83",
        "colab": {
          "base_uri": "https://localhost:8080/"
        }
      },
      "outputs": [
        {
          "output_type": "execute_result",
          "data": {
            "text/plain": [
              "array([0, 1, 2, 3, 4, 5, 6, 7])"
            ]
          },
          "metadata": {},
          "execution_count": 90
        }
      ],
      "source": [
        "x[x < 7.4]"
      ]
    },
    {
      "cell_type": "markdown",
      "metadata": {
        "id": "_Fi2JkwkLfED"
      },
      "source": [
        "## Kopije\n",
        "\n",
        "Mnogi operatori u numpy ne kreiraju kopije, već operišu sa istom memorijom"
      ]
    },
    {
      "cell_type": "code",
      "execution_count": 91,
      "metadata": {
        "id": "fujSnyLILfED",
        "outputId": "080952e1-4a1a-4fdb-febd-4be94c4edee7",
        "colab": {
          "base_uri": "https://localhost:8080/"
        }
      },
      "outputs": [
        {
          "output_type": "stream",
          "name": "stdout",
          "text": [
            "[0 1 2 3 4 5 6 7 8 9] [0 1 2 3 4]\n",
            "[10  1  2  3  4  5  6  7  8  9] [10  1  2  3  4]\n"
          ]
        }
      ],
      "source": [
        "x = numpy.arange(10)\n",
        "y = x[:5]\n",
        "\n",
        "print (x, y)\n",
        "y[0] = 10\n",
        "print (x, y)"
      ]
    },
    {
      "cell_type": "markdown",
      "metadata": {
        "id": "_Cw0DpTCLfED"
      },
      "source": [
        "**Output** je takav zato što se x i y vezuju za  __isto mesto u memoriji__."
      ]
    },
    {
      "cell_type": "code",
      "execution_count": 92,
      "metadata": {
        "id": "zPoKanBlLfED",
        "outputId": "af8cbd43-29f7-4a48-b8fb-32b9049bf031",
        "colab": {
          "base_uri": "https://localhost:8080/"
        }
      },
      "outputs": [
        {
          "output_type": "stream",
          "name": "stdout",
          "text": [
            "[0 1 2 3 4 5 6 7 8 9] [0 1 2 3 4]\n",
            "[0 1 2 3 4 5 6 7 8 9] [10  1  2  3  4]\n"
          ]
        }
      ],
      "source": [
        "x = numpy.arange(10)\n",
        "y = x[:5].copy()\n",
        "print (x, y)\n",
        "y[0] = 10\n",
        "print (x, y)"
      ]
    },
    {
      "cell_type": "markdown",
      "metadata": {
        "id": "g9bGJkX5LfED"
      },
      "source": [
        "## Random brojevi\n",
        "\n",
        "Modul `numpy.random` pomaže sa generacijom random brojeva."
      ]
    },
    {
      "cell_type": "code",
      "execution_count": 93,
      "metadata": {
        "id": "AwL4wISFLfED",
        "outputId": "bc0e4856-ff46-4971-9e7f-f2603e0c9c3b",
        "colab": {
          "base_uri": "https://localhost:8080/"
        }
      },
      "outputs": [
        {
          "output_type": "execute_result",
          "data": {
            "text/plain": [
              "array([-7.09396263e+00,  7.97693944e+00,  1.65237071e+01, ...,\n",
              "        1.57446655e+01, -1.05468002e-02, -4.20164299e-01])"
            ]
          },
          "metadata": {},
          "execution_count": 93
        }
      ],
      "source": [
        "# Generisanje 10000 random brojeva\n",
        "numpy.random.normal(loc=2, scale=12, size=10000)"
      ]
    },
    {
      "cell_type": "markdown",
      "metadata": {
        "id": "dtl1eSHbLfED"
      },
      "source": [
        "## Sortiranje"
      ]
    },
    {
      "cell_type": "code",
      "execution_count": 94,
      "metadata": {
        "id": "MH_xF9jiLfED"
      },
      "outputs": [],
      "source": [
        "x = numpy.random.random(size=1000)\n",
        "x = numpy.sort(x)"
      ]
    },
    {
      "cell_type": "code",
      "execution_count": 95,
      "metadata": {
        "id": "19_hZf6nLfED",
        "outputId": "f3f5ca62-c8eb-47b7-df33-7fcc2bc57f96",
        "colab": {
          "base_uri": "https://localhost:8080/"
        }
      },
      "outputs": [
        {
          "output_type": "stream",
          "name": "stdout",
          "text": [
            "[0.00025212 0.00075693 0.00362296 0.00497352 0.00568711 0.00584436\n",
            " 0.00656797 0.00708847 0.00742264 0.00868005]\n",
            "[0.98998772 0.99271075 0.99403544 0.99454977 0.99495859 0.99748596\n",
            " 0.99868187 0.99881243 0.99902364 0.99958534]\n"
          ]
        }
      ],
      "source": [
        "print (x[:10])\n",
        "print (x[-10:])"
      ]
    },
    {
      "cell_type": "markdown",
      "metadata": {
        "id": "seqM55lWLfED"
      },
      "source": [
        "## Arg...\n",
        "\n",
        "arg-fukncije dozvoljavaju prisanje netrivijalnih operacija u samo nekoliko linija koda."
      ]
    },
    {
      "cell_type": "code",
      "execution_count": 96,
      "metadata": {
        "id": "nWQNTkoyLfED"
      },
      "outputs": [],
      "source": [
        "# random.random generiše uniformnu raspodelu u opsegu [0, 1]\n",
        "random_numbers = numpy.random.random(size=1000)\n",
        "indices = numpy.argsort(random_numbers) # Funkcija vraća indekse koji bi sortirali niz."
      ]
    },
    {
      "cell_type": "code",
      "execution_count": 97,
      "metadata": {
        "id": "GmDZGj79LfED",
        "outputId": "5a426f53-d1a5-4da9-dde6-a8be5f6d6980",
        "colab": {
          "base_uri": "https://localhost:8080/"
        }
      },
      "outputs": [
        {
          "output_type": "execute_result",
          "data": {
            "text/plain": [
              "np.True_"
            ]
          },
          "metadata": {},
          "execution_count": 97
        }
      ],
      "source": [
        "numpy.all(random_numbers[indices] == numpy.sort(random_numbers)) #Proverava da li korišćenje index-a u indices pravilno sortira niz random_numbers, numpy.all predstavlja logički AND svih elemenata niza boolean objekata - random_numbers[indices] == numpy.sort(random_numbers)"
      ]
    },
    {
      "cell_type": "code",
      "execution_count": 98,
      "metadata": {
        "id": "-53E1BeoLfED",
        "outputId": "3f5f55cb-8774-416d-a476-aefe84711902",
        "colab": {
          "base_uri": "https://localhost:8080/"
        }
      },
      "outputs": [
        {
          "output_type": "execute_result",
          "data": {
            "text/plain": [
              "array([894, 167, 310, 138, 273, 586, 880,  76, 398, 364])"
            ]
          },
          "metadata": {},
          "execution_count": 98
        }
      ],
      "source": [
        "indices[:10]"
      ]
    },
    {
      "cell_type": "code",
      "execution_count": 99,
      "metadata": {
        "id": "omNfS08ELfED",
        "outputId": "31deb8e4-5d2a-4630-b4aa-a17513404ce1",
        "colab": {
          "base_uri": "https://localhost:8080/"
        }
      },
      "outputs": [
        {
          "output_type": "execute_result",
          "data": {
            "text/plain": [
              "(np.float64(0.0019157385183038445), np.float64(0.9996969025730209))"
            ]
          },
          "metadata": {},
          "execution_count": 99
        }
      ],
      "source": [
        "random_numbers.min(), random_numbers.max()"
      ]
    },
    {
      "cell_type": "code",
      "execution_count": 100,
      "metadata": {
        "id": "1lhF0I8bLfED",
        "outputId": "3ab7f6e9-5229-4ed2-cc37-993c91a9c80c",
        "colab": {
          "base_uri": "https://localhost:8080/"
        }
      },
      "outputs": [
        {
          "output_type": "execute_result",
          "data": {
            "text/plain": [
              "(np.int64(482), np.float64(0.9996969025730209))"
            ]
          },
          "metadata": {},
          "execution_count": 100
        }
      ],
      "source": [
        "random_numbers.argmax(), random_numbers[random_numbers.argmax()]"
      ]
    },
    {
      "cell_type": "code",
      "execution_count": 101,
      "metadata": {
        "id": "pL9ymYVKLfED",
        "outputId": "c1cd0258-ec94-4347-a715-b23d6d4aa7fd",
        "colab": {
          "base_uri": "https://localhost:8080/"
        }
      },
      "outputs": [
        {
          "output_type": "execute_result",
          "data": {
            "text/plain": [
              "(np.int64(894), np.float64(0.0019157385183038445))"
            ]
          },
          "metadata": {},
          "execution_count": 101
        }
      ],
      "source": [
        "random_numbers.argmin(), random_numbers[random_numbers.argmin()]"
      ]
    },
    {
      "cell_type": "markdown",
      "metadata": {
        "id": "4DHzjB5vLfED"
      },
      "source": [
        "## Zadaci za vežbu"
      ]
    },
    {
      "cell_type": "code",
      "execution_count": 102,
      "metadata": {
        "id": "kRQdZGYxLfED"
      },
      "outputs": [],
      "source": [
        "# 0. Importujte numpy\n"
      ]
    },
    {
      "cell_type": "code",
      "execution_count": 103,
      "metadata": {
        "id": "pMJLTlM_LfED"
      },
      "outputs": [],
      "source": [
        "# 1. Sample-ujte 1000 elemeata koristeći normal distribution\n"
      ]
    },
    {
      "cell_type": "code",
      "execution_count": 104,
      "metadata": {
        "id": "8dV3_0VsLfED"
      },
      "outputs": [],
      "source": [
        "# 2. Ostavite samo pozitivne brojeve (koristeći elemente iz zadatka 1.)\n"
      ]
    },
    {
      "cell_type": "code",
      "execution_count": 105,
      "metadata": {
        "id": "8Y5-cxfVLfEE"
      },
      "outputs": [],
      "source": [
        "# 3. Prebrojte elemente koji su ostali kao output iz zadatka 2, odredite njihov minmum, maksimum, srednju vrednost i variance."
      ]
    },
    {
      "cell_type": "markdown",
      "metadata": {
        "id": "Ep-PfOwpLfEE"
      },
      "source": [
        "## Reference:\n",
        "* `numpy` dokumentacija: https://docs.scipy.org/doc/numpy/reference/\n",
        "    * Na (skoro) svako `numpy` pitanje je već odgovoreno na sajtu stackoverflow\n",
        "* [From python to numpy: a beautiful book about numpy](https://github.com/rougier/from-python-to-numpy)\n",
        "* Manipulacija podacima korišćenjem `numpy`: saveti i trikovi [part1](http://arogozhnikov.github.io/2015/09/29/NumpyTipsAndTricks1.html), [part2](http://arogozhnikov.github.io/2015/09/30/NumpyTipsAndTricks2.html)\n"
      ]
    },
    {
      "cell_type": "code",
      "execution_count": 54,
      "metadata": {
        "id": "GPZDMlQgLfEE"
      },
      "outputs": [],
      "source": []
    }
  ],
  "metadata": {
    "kernelspec": {
      "display_name": "Python 3",
      "language": "python",
      "name": "python3"
    },
    "language_info": {
      "codemirror_mode": {
        "name": "ipython",
        "version": 3
      },
      "file_extension": ".py",
      "mimetype": "text/x-python",
      "name": "python",
      "nbconvert_exporter": "python",
      "pygments_lexer": "ipython3",
      "version": "3.9.12"
    },
    "colab": {
      "provenance": []
    }
  },
  "nbformat": 4,
  "nbformat_minor": 0
}