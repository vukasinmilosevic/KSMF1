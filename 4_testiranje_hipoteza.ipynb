{
  "nbformat": 4,
  "nbformat_minor": 0,
  "metadata": {
    "colab": {
      "provenance": []
    },
    "kernelspec": {
      "name": "python3",
      "display_name": "Python 3"
    },
    "language_info": {
      "name": "python"
    }
  },
  "cells": [
    {
      "cell_type": "markdown",
      "source": [
        "Zadatak 1: Zamislimo da želimo da testiramo da li devojke u proseku postižu više od 600 poena na verbalnom delu SAT testa. Pretpostavimo da takođe znamo da je standardna devijacija rezultata devojaka na verbalnom delu SAT testa 100. Prikupljamo podatke za 20 devojaka korišćenjem slučajnog uzorka i beležimo njihove rezultate. Koristiti vrednost α=0.05."
      ],
      "metadata": {
        "id": "3VebK1wEVhuy"
      }
    },
    {
      "cell_type": "code",
      "source": [
        "import numpy as np\n",
        "from scipy import stats"
      ],
      "metadata": {
        "id": "ZvSIwCqGVjJ-"
      },
      "execution_count": null,
      "outputs": []
    },
    {
      "cell_type": "code",
      "source": [
        "from statsmodels.stats.weightstats import ztest\n",
        "from scipy.stats import norm\n",
        "import numpy as np\n",
        "import math\n",
        "\n",
        "sample_marks = [650,730,510,670,480,800,690,530,590,620,710,670,640,780,650,490,800,600,510,700]\n",
        "\n",
        "# Method 1 : Using Z-score\n",
        "\n",
        "sample_mean = np.mean(sample_marks)\n",
        "sample_size = np.count_nonzero(sample_marks)\n",
        "population_mean = 600\n",
        "population_std = 100\n",
        "alpha = 0.05\n",
        "\n",
        "z_score = (sample_mean-population_mean)/(population_std/math.sqrt(sample_size))\n",
        "\n",
        "critical_value = 1.645 # from z table\n",
        "if(z_score<critical_value):\n",
        "    print('Null hypothesis is accepted!')\n",
        "else:\n",
        "    print('Null hypothesis is rejected. \\nAlternate hypothesis is accepted!')\n",
        "\n",
        "\n",
        "# Method 2: Using built in function of ztest\n",
        "\n",
        "ztest_score, pval = ztest(sample_marks,value=population_mean,alternative='larger')\n",
        "print('Z-test Score:',ztest_score,'\\nP-value:',pval)\n",
        "if(pval>alpha):\n",
        "     print('Null hypothesis is accepted!')\n",
        "else:\n",
        "    print('Null hypothesis is rejected. \\nAlternate hypothesis is accepted!')\n",
        "\n",
        "\n",
        "# Method 3: Creating a function\n",
        "\n",
        "def ztest(x,mu,sigma,n):\n",
        "    deno = sigma/math.sqrt(n)\n",
        "    z = (x-mu)/deno\n",
        "    p = (1-norm.cdf(abs(z)))\n",
        "    return z,p\n",
        "\n",
        "s_mean = np.mean(sample_marks)\n",
        "p_mean = 600\n",
        "p_std = 100\n",
        "s_size = np.count_nonzero(sample_marks)\n",
        "\n",
        "ztest(s_mean,p_mean,p_std,s_size)\n",
        "\n",
        "ztest(641,600,100,20)"
      ],
      "metadata": {
        "colab": {
          "base_uri": "https://localhost:8080/"
        },
        "id": "Nf-O1DUEVjxo",
        "outputId": "d3b02694-577e-42c3-d76e-2466e32186c0"
      },
      "execution_count": null,
      "outputs": [
        {
          "output_type": "stream",
          "name": "stdout",
          "text": [
            "Null hypothesis is rejected. \n",
            "Alternate hypothesis is accepted!\n",
            "Z-test Score: 1.831744911595958 \n",
            "P-value: 0.03349471703839336\n",
            "Null hypothesis is rejected. \n",
            "Alternate hypothesis is accepted!\n"
          ]
        },
        {
          "output_type": "execute_result",
          "data": {
            "text/plain": [
              "(1.8335757415498277, np.float64(0.033358497950542465))"
            ]
          },
          "metadata": {},
          "execution_count": 4
        }
      ]
    },
    {
      "cell_type": "markdown",
      "source": [
        "To determine the p-value, you need to know the distribution of your test statistic under the assumption that the null hypothesis is true. Then, with the help of the cumulative distribution function (cdf) of this distribution, we can express the probability of the test statistics being at least as extreme as its value x for the sample:\n",
        "\n",
        "Left-tailed test:\n",
        "\n",
        "p-value = cdf(x).\n",
        "\n",
        "Right-tailed test:\n",
        "\n",
        "p-value = 1 - cdf(x).\n",
        "\n",
        "Two-tailed test:\n",
        "\n",
        "p-value = 2 × min{cdf(x) , 1 - cdf(x)}."
      ],
      "metadata": {
        "id": "sbFqvaBWVnDk"
      }
    },
    {
      "cell_type": "code",
      "source": [],
      "metadata": {
        "id": "xbPHFFH3VncZ"
      },
      "execution_count": null,
      "outputs": []
    },
    {
      "cell_type": "markdown",
      "source": [
        "### Zadatak 2 — Paired t-test\n",
        "Isto telo merimo pre i posle zagrevanja. Podaci (u °C):\n",
        "- pre: [20.1, 20.3, 20.5, 20.2, 20.0]\n",
        "- posle: [20.4, 20.6, 20.8, 20.4, 20.3]\n",
        "Proveriti da li je došlo do značajnog povećanja temperature."
      ],
      "metadata": {
        "id": "rNKLSeauVxWq"
      }
    },
    {
      "cell_type": "code",
      "source": [
        "pre = np.array([20.1, 20.3, 20.5, 20.2, 20.0])\n",
        "posle = np.array([20.4, 20.6, 20.8, 20.4, 20.3])\n",
        "t_stat, p_val = stats.ttest_rel(pre, posle)\n",
        "print(f\"t = {t_stat:.4f}, p = {p_val:.4f}\")\n",
        "if p_val/2 < 0.05 and t_stat > 0:\n",
        "    print(\"Odbacujemo H0 — temperatura je značajno porasla.\")\n",
        "else:\n",
        "    print(\"Ne odbacujemo H0.\")"
      ],
      "metadata": {
        "colab": {
          "base_uri": "https://localhost:8080/"
        },
        "id": "iAQB6gNJVx22",
        "outputId": "26d99815-6eb8-4e65-f7e1-bb1e722781a9"
      },
      "execution_count": null,
      "outputs": [
        {
          "output_type": "stream",
          "name": "stdout",
          "text": [
            "t = -14.0000, p = 0.0002\n",
            "Ne odbacujemo H0.\n"
          ]
        }
      ]
    },
    {
      "cell_type": "code",
      "source": [
        "\n"
      ],
      "metadata": {
        "id": "72KQghbFV0M3"
      },
      "execution_count": null,
      "outputs": []
    },
    {
      "cell_type": "code",
      "source": [],
      "metadata": {
        "id": "Gvj2v9ni1Wjc"
      },
      "execution_count": null,
      "outputs": []
    }
  ]
}